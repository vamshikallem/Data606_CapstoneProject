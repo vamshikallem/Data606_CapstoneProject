{
  "nbformat": 4,
  "nbformat_minor": 0,
  "metadata": {
    "colab": {
      "name": "GSR_Predictions.ipynb",
      "provenance": [],
      "collapsed_sections": []
    },
    "kernelspec": {
      "name": "python3",
      "display_name": "Python 3"
    },
    "language_info": {
      "name": "python"
    }
  },
  "cells": [
    {
      "cell_type": "code",
      "metadata": {
        "colab": {
          "base_uri": "https://localhost:8080/"
        },
        "id": "8bTGTfa3d5i1",
        "outputId": "73946299-6595-430e-bb1e-d7b4a08746bd"
      },
      "source": [
        "from google.colab import drive\n",
        "drive.mount('/content/gdrive/')"
      ],
      "execution_count": 1,
      "outputs": [
        {
          "output_type": "stream",
          "text": [
            "Mounted at /content/gdrive/\n"
          ],
          "name": "stdout"
        }
      ]
    },
    {
      "cell_type": "code",
      "metadata": {
        "colab": {
          "base_uri": "https://localhost:8080/"
        },
        "id": "jq-TlDHfq7pv",
        "outputId": "b44e8a9d-5694-49eb-a83d-22e0d20a5902"
      },
      "source": [
        "pip install neurokit2"
      ],
      "execution_count": 2,
      "outputs": [
        {
          "output_type": "stream",
          "text": [
            "Collecting neurokit2\n",
            "\u001b[?25l  Downloading https://files.pythonhosted.org/packages/4e/4a/d2a9502942cb60e61c9ba9772c04ebd0a945fe248ed42cb520334da582b2/neurokit2-0.1.1-py2.py3-none-any.whl (990kB)\n",
            "\r\u001b[K     |▎                               | 10kB 12.4MB/s eta 0:00:01\r\u001b[K     |▋                               | 20kB 15.9MB/s eta 0:00:01\r\u001b[K     |█                               | 30kB 18.2MB/s eta 0:00:01\r\u001b[K     |█▎                              | 40kB 19.8MB/s eta 0:00:01\r\u001b[K     |█▋                              | 51kB 5.5MB/s eta 0:00:01\r\u001b[K     |██                              | 61kB 6.3MB/s eta 0:00:01\r\u001b[K     |██▎                             | 71kB 7.1MB/s eta 0:00:01\r\u001b[K     |██▋                             | 81kB 4.2MB/s eta 0:00:01\r\u001b[K     |███                             | 92kB 4.5MB/s eta 0:00:01\r\u001b[K     |███▎                            | 102kB 5.0MB/s eta 0:00:01\r\u001b[K     |███▋                            | 112kB 5.0MB/s eta 0:00:01\r\u001b[K     |████                            | 122kB 5.0MB/s eta 0:00:01\r\u001b[K     |████▎                           | 133kB 5.0MB/s eta 0:00:01\r\u001b[K     |████▋                           | 143kB 5.0MB/s eta 0:00:01\r\u001b[K     |█████                           | 153kB 5.0MB/s eta 0:00:01\r\u001b[K     |█████▎                          | 163kB 5.0MB/s eta 0:00:01\r\u001b[K     |█████▋                          | 174kB 5.0MB/s eta 0:00:01\r\u001b[K     |██████                          | 184kB 5.0MB/s eta 0:00:01\r\u001b[K     |██████▎                         | 194kB 5.0MB/s eta 0:00:01\r\u001b[K     |██████▋                         | 204kB 5.0MB/s eta 0:00:01\r\u001b[K     |███████                         | 215kB 5.0MB/s eta 0:00:01\r\u001b[K     |███████▎                        | 225kB 5.0MB/s eta 0:00:01\r\u001b[K     |███████▋                        | 235kB 5.0MB/s eta 0:00:01\r\u001b[K     |████████                        | 245kB 5.0MB/s eta 0:00:01\r\u001b[K     |████████▎                       | 256kB 5.0MB/s eta 0:00:01\r\u001b[K     |████████▋                       | 266kB 5.0MB/s eta 0:00:01\r\u001b[K     |█████████                       | 276kB 5.0MB/s eta 0:00:01\r\u001b[K     |█████████▎                      | 286kB 5.0MB/s eta 0:00:01\r\u001b[K     |█████████▋                      | 296kB 5.0MB/s eta 0:00:01\r\u001b[K     |██████████                      | 307kB 5.0MB/s eta 0:00:01\r\u001b[K     |██████████▎                     | 317kB 5.0MB/s eta 0:00:01\r\u001b[K     |██████████▋                     | 327kB 5.0MB/s eta 0:00:01\r\u001b[K     |███████████                     | 337kB 5.0MB/s eta 0:00:01\r\u001b[K     |███████████▎                    | 348kB 5.0MB/s eta 0:00:01\r\u001b[K     |███████████▋                    | 358kB 5.0MB/s eta 0:00:01\r\u001b[K     |████████████                    | 368kB 5.0MB/s eta 0:00:01\r\u001b[K     |████████████▎                   | 378kB 5.0MB/s eta 0:00:01\r\u001b[K     |████████████▋                   | 389kB 5.0MB/s eta 0:00:01\r\u001b[K     |█████████████                   | 399kB 5.0MB/s eta 0:00:01\r\u001b[K     |█████████████▎                  | 409kB 5.0MB/s eta 0:00:01\r\u001b[K     |█████████████▋                  | 419kB 5.0MB/s eta 0:00:01\r\u001b[K     |██████████████                  | 430kB 5.0MB/s eta 0:00:01\r\u001b[K     |██████████████▎                 | 440kB 5.0MB/s eta 0:00:01\r\u001b[K     |██████████████▌                 | 450kB 5.0MB/s eta 0:00:01\r\u001b[K     |██████████████▉                 | 460kB 5.0MB/s eta 0:00:01\r\u001b[K     |███████████████▏                | 471kB 5.0MB/s eta 0:00:01\r\u001b[K     |███████████████▌                | 481kB 5.0MB/s eta 0:00:01\r\u001b[K     |███████████████▉                | 491kB 5.0MB/s eta 0:00:01\r\u001b[K     |████████████████▏               | 501kB 5.0MB/s eta 0:00:01\r\u001b[K     |████████████████▌               | 512kB 5.0MB/s eta 0:00:01\r\u001b[K     |████████████████▉               | 522kB 5.0MB/s eta 0:00:01\r\u001b[K     |█████████████████▏              | 532kB 5.0MB/s eta 0:00:01\r\u001b[K     |█████████████████▌              | 542kB 5.0MB/s eta 0:00:01\r\u001b[K     |█████████████████▉              | 552kB 5.0MB/s eta 0:00:01\r\u001b[K     |██████████████████▏             | 563kB 5.0MB/s eta 0:00:01\r\u001b[K     |██████████████████▌             | 573kB 5.0MB/s eta 0:00:01\r\u001b[K     |██████████████████▉             | 583kB 5.0MB/s eta 0:00:01\r\u001b[K     |███████████████████▏            | 593kB 5.0MB/s eta 0:00:01\r\u001b[K     |███████████████████▌            | 604kB 5.0MB/s eta 0:00:01\r\u001b[K     |███████████████████▉            | 614kB 5.0MB/s eta 0:00:01\r\u001b[K     |████████████████████▏           | 624kB 5.0MB/s eta 0:00:01\r\u001b[K     |████████████████████▌           | 634kB 5.0MB/s eta 0:00:01\r\u001b[K     |████████████████████▉           | 645kB 5.0MB/s eta 0:00:01\r\u001b[K     |█████████████████████▏          | 655kB 5.0MB/s eta 0:00:01\r\u001b[K     |█████████████████████▌          | 665kB 5.0MB/s eta 0:00:01\r\u001b[K     |█████████████████████▉          | 675kB 5.0MB/s eta 0:00:01\r\u001b[K     |██████████████████████▏         | 686kB 5.0MB/s eta 0:00:01\r\u001b[K     |██████████████████████▌         | 696kB 5.0MB/s eta 0:00:01\r\u001b[K     |██████████████████████▉         | 706kB 5.0MB/s eta 0:00:01\r\u001b[K     |███████████████████████▏        | 716kB 5.0MB/s eta 0:00:01\r\u001b[K     |███████████████████████▌        | 727kB 5.0MB/s eta 0:00:01\r\u001b[K     |███████████████████████▉        | 737kB 5.0MB/s eta 0:00:01\r\u001b[K     |████████████████████████▏       | 747kB 5.0MB/s eta 0:00:01\r\u001b[K     |████████████████████████▌       | 757kB 5.0MB/s eta 0:00:01\r\u001b[K     |████████████████████████▉       | 768kB 5.0MB/s eta 0:00:01\r\u001b[K     |█████████████████████████▏      | 778kB 5.0MB/s eta 0:00:01\r\u001b[K     |█████████████████████████▌      | 788kB 5.0MB/s eta 0:00:01\r\u001b[K     |█████████████████████████▉      | 798kB 5.0MB/s eta 0:00:01\r\u001b[K     |██████████████████████████▏     | 808kB 5.0MB/s eta 0:00:01\r\u001b[K     |██████████████████████████▌     | 819kB 5.0MB/s eta 0:00:01\r\u001b[K     |██████████████████████████▉     | 829kB 5.0MB/s eta 0:00:01\r\u001b[K     |███████████████████████████▏    | 839kB 5.0MB/s eta 0:00:01\r\u001b[K     |███████████████████████████▌    | 849kB 5.0MB/s eta 0:00:01\r\u001b[K     |███████████████████████████▉    | 860kB 5.0MB/s eta 0:00:01\r\u001b[K     |████████████████████████████▏   | 870kB 5.0MB/s eta 0:00:01\r\u001b[K     |████████████████████████████▌   | 880kB 5.0MB/s eta 0:00:01\r\u001b[K     |████████████████████████████▉   | 890kB 5.0MB/s eta 0:00:01\r\u001b[K     |█████████████████████████████   | 901kB 5.0MB/s eta 0:00:01\r\u001b[K     |█████████████████████████████▍  | 911kB 5.0MB/s eta 0:00:01\r\u001b[K     |█████████████████████████████▊  | 921kB 5.0MB/s eta 0:00:01\r\u001b[K     |██████████████████████████████  | 931kB 5.0MB/s eta 0:00:01\r\u001b[K     |██████████████████████████████▍ | 942kB 5.0MB/s eta 0:00:01\r\u001b[K     |██████████████████████████████▊ | 952kB 5.0MB/s eta 0:00:01\r\u001b[K     |███████████████████████████████ | 962kB 5.0MB/s eta 0:00:01\r\u001b[K     |███████████████████████████████▍| 972kB 5.0MB/s eta 0:00:01\r\u001b[K     |███████████████████████████████▊| 983kB 5.0MB/s eta 0:00:01\r\u001b[K     |████████████████████████████████| 993kB 5.0MB/s \n",
            "\u001b[?25hRequirement already satisfied: numpy in /usr/local/lib/python3.7/dist-packages (from neurokit2) (1.19.5)\n",
            "Requirement already satisfied: scipy in /usr/local/lib/python3.7/dist-packages (from neurokit2) (1.4.1)\n",
            "Requirement already satisfied: scikit-learn in /usr/local/lib/python3.7/dist-packages (from neurokit2) (0.22.2.post1)\n",
            "Requirement already satisfied: matplotlib in /usr/local/lib/python3.7/dist-packages (from neurokit2) (3.2.2)\n",
            "Requirement already satisfied: pandas in /usr/local/lib/python3.7/dist-packages (from neurokit2) (1.1.5)\n",
            "Requirement already satisfied: joblib>=0.11 in /usr/local/lib/python3.7/dist-packages (from scikit-learn->neurokit2) (1.0.1)\n",
            "Requirement already satisfied: kiwisolver>=1.0.1 in /usr/local/lib/python3.7/dist-packages (from matplotlib->neurokit2) (1.3.1)\n",
            "Requirement already satisfied: cycler>=0.10 in /usr/local/lib/python3.7/dist-packages (from matplotlib->neurokit2) (0.10.0)\n",
            "Requirement already satisfied: python-dateutil>=2.1 in /usr/local/lib/python3.7/dist-packages (from matplotlib->neurokit2) (2.8.1)\n",
            "Requirement already satisfied: pyparsing!=2.0.4,!=2.1.2,!=2.1.6,>=2.0.1 in /usr/local/lib/python3.7/dist-packages (from matplotlib->neurokit2) (2.4.7)\n",
            "Requirement already satisfied: pytz>=2017.2 in /usr/local/lib/python3.7/dist-packages (from pandas->neurokit2) (2018.9)\n",
            "Requirement already satisfied: six in /usr/local/lib/python3.7/dist-packages (from cycler>=0.10->matplotlib->neurokit2) (1.15.0)\n",
            "Installing collected packages: neurokit2\n",
            "Successfully installed neurokit2-0.1.1\n"
          ],
          "name": "stdout"
        }
      ]
    },
    {
      "cell_type": "code",
      "metadata": {
        "colab": {
          "base_uri": "https://localhost:8080/"
        },
        "id": "P8kMlRSFq7wL",
        "outputId": "d566414e-134b-48b1-f12a-c16b9ed8777d"
      },
      "source": [
        "pip install biosppy==0.6.1"
      ],
      "execution_count": 3,
      "outputs": [
        {
          "output_type": "stream",
          "text": [
            "Collecting biosppy==0.6.1\n",
            "\u001b[?25l  Downloading https://files.pythonhosted.org/packages/b7/60/d09a277f9d31a2fc9190edf7e8a685c4f9b54b5dff487f523b916f441e1a/biosppy-0.6.1-py2.py3-none-any.whl (76kB)\n",
            "\r\u001b[K     |████▎                           | 10kB 14.0MB/s eta 0:00:01\r\u001b[K     |████████▋                       | 20kB 9.8MB/s eta 0:00:01\r\u001b[K     |████████████▉                   | 30kB 10.2MB/s eta 0:00:01\r\u001b[K     |█████████████████▏              | 40kB 9.0MB/s eta 0:00:01\r\u001b[K     |█████████████████████▍          | 51kB 5.5MB/s eta 0:00:01\r\u001b[K     |█████████████████████████▊      | 61kB 5.6MB/s eta 0:00:01\r\u001b[K     |██████████████████████████████  | 71kB 5.9MB/s eta 0:00:01\r\u001b[K     |████████████████████████████████| 81kB 4.1MB/s \n",
            "\u001b[?25hRequirement already satisfied: h5py in /usr/local/lib/python3.7/dist-packages (from biosppy==0.6.1) (2.10.0)\n",
            "Collecting bidict\n",
            "  Downloading https://files.pythonhosted.org/packages/67/d4/eaf9242722bf991e0955380dd6168020cb15a71cc0d3cc2373f4911b1f1d/bidict-0.21.2-py2.py3-none-any.whl\n",
            "Requirement already satisfied: scikit-learn in /usr/local/lib/python3.7/dist-packages (from biosppy==0.6.1) (0.22.2.post1)\n",
            "Requirement already satisfied: scipy in /usr/local/lib/python3.7/dist-packages (from biosppy==0.6.1) (1.4.1)\n",
            "Requirement already satisfied: six in /usr/local/lib/python3.7/dist-packages (from biosppy==0.6.1) (1.15.0)\n",
            "Requirement already satisfied: matplotlib in /usr/local/lib/python3.7/dist-packages (from biosppy==0.6.1) (3.2.2)\n",
            "Collecting shortuuid\n",
            "  Downloading https://files.pythonhosted.org/packages/25/a6/2ecc1daa6a304e7f1b216f0896b26156b78e7c38e1211e9b798b4716c53d/shortuuid-1.0.1-py3-none-any.whl\n",
            "Requirement already satisfied: numpy in /usr/local/lib/python3.7/dist-packages (from biosppy==0.6.1) (1.19.5)\n",
            "Requirement already satisfied: joblib>=0.11 in /usr/local/lib/python3.7/dist-packages (from scikit-learn->biosppy==0.6.1) (1.0.1)\n",
            "Requirement already satisfied: python-dateutil>=2.1 in /usr/local/lib/python3.7/dist-packages (from matplotlib->biosppy==0.6.1) (2.8.1)\n",
            "Requirement already satisfied: kiwisolver>=1.0.1 in /usr/local/lib/python3.7/dist-packages (from matplotlib->biosppy==0.6.1) (1.3.1)\n",
            "Requirement already satisfied: cycler>=0.10 in /usr/local/lib/python3.7/dist-packages (from matplotlib->biosppy==0.6.1) (0.10.0)\n",
            "Requirement already satisfied: pyparsing!=2.0.4,!=2.1.2,!=2.1.6,>=2.0.1 in /usr/local/lib/python3.7/dist-packages (from matplotlib->biosppy==0.6.1) (2.4.7)\n",
            "Installing collected packages: bidict, shortuuid, biosppy\n",
            "Successfully installed bidict-0.21.2 biosppy-0.6.1 shortuuid-1.0.1\n"
          ],
          "name": "stdout"
        }
      ]
    },
    {
      "cell_type": "code",
      "metadata": {
        "colab": {
          "base_uri": "https://localhost:8080/"
        },
        "id": "vrHrb2XBq70p",
        "outputId": "6b22f8f2-79fd-4005-ea26-558228b1a1b1"
      },
      "source": [
        "pip install mne"
      ],
      "execution_count": 4,
      "outputs": [
        {
          "output_type": "stream",
          "text": [
            "Collecting mne\n",
            "\u001b[?25l  Downloading https://files.pythonhosted.org/packages/60/f7/2bf5de3fad42b66d00ee27539bc3be0260b4e66fdecc12f740cdf2daf2e7/mne-0.23.0-py3-none-any.whl (6.9MB)\n",
            "\u001b[K     |████████████████████████████████| 7.0MB 4.7MB/s \n",
            "\u001b[?25hRequirement already satisfied: scipy>=1.1.0 in /usr/local/lib/python3.7/dist-packages (from mne) (1.4.1)\n",
            "Requirement already satisfied: numpy>=1.15.4 in /usr/local/lib/python3.7/dist-packages (from mne) (1.19.5)\n",
            "Installing collected packages: mne\n",
            "Successfully installed mne-0.23.0\n"
          ],
          "name": "stdout"
        }
      ]
    },
    {
      "cell_type": "code",
      "metadata": {
        "id": "lSAe0r6vwfDc"
      },
      "source": [
        "import numpy as np\n",
        "import pandas as pd\n",
        "import matplotlib.pyplot as plt\n",
        "import seaborn as sns\n",
        "import time \n",
        "import re\n",
        "import csv\n",
        "import scipy.io\n",
        "import biosppy\n",
        "import mne\n",
        "import neurokit2 as nk\n",
        "import ast\n",
        "import os\n",
        "import scipy.io\n",
        "from sklearn.preprocessing import LabelEncoder\n",
        "import time\n",
        "import datetime\n",
        "from datetime import datetime\n",
        "import glob\n",
        "from scipy.stats import zscore, norm\n",
        "from neurokit2 import eda_phasic\n",
        "from scipy.stats import linregress\n",
        "from sklearn import metrics\n",
        "from sklearn.preprocessing import MinMaxScaler"
      ],
      "execution_count": 5,
      "outputs": []
    },
    {
      "cell_type": "markdown",
      "metadata": {
        "id": "JZOcf9whoeEZ"
      },
      "source": [
        "import sys\n",
        "sys.path.append('/content/gdrive/My Drive/Food_VR/GSR_Preprocessing/W&S_D_Shimmer_GSR/')\n",
        "\n",
        "from ******* import TimeStamp_Conversion, column_formatting, Annotation_timestamp, Shimmers_csv2DF, Sliding_Window_GSRFeatureExt "
      ]
    },
    {
      "cell_type": "code",
      "metadata": {
        "id": "p4SggKmeo1Ul"
      },
      "source": [
        "# this function is to convert the TimeStamp column (first column) from Unix Epoch time to standard datetime format\n",
        "def TimeStamp_Conversion(ts):\n",
        "  \"\"\"\n",
        "  we have a unix epoch time in milliseconds i.e, a string with a length of 13 charcters example:1.5789360034388428E12\n",
        "  \n",
        "  parameters:\n",
        "  -----\n",
        "  ts = Epoch timesatmp in milliseconds.\n",
        "\n",
        "  Returns:\n",
        "  -----\n",
        "  Std_Unix = standard epoch timestamp in seconds.\n",
        "\n",
        "  \"\"\"\n",
        "\n",
        "  float_Input = float(ts) # converting the string-type(1.5789360034388428E12) Unix Epoch to float-type(1578936003.4388428).\n",
        "\n",
        "  # float input is divided by 1000 to convert the Unix epoch in milliseconds to seconds \n",
        "  Std_Unix = float_Input/1000\n",
        "\n",
        "  datetime_Input = datetime.fromtimestamp(Std_Unix) \n",
        "  # datetime.fromtimestamp converts the unix epoch in seconds to datetime returns example:datetime.datetime(2020, 1, 13, 17, 20, 3, 438843)\n",
        "\n",
        "  return Std_Unix"
      ],
      "execution_count": 6,
      "outputs": []
    },
    {
      "cell_type": "code",
      "metadata": {
        "id": "dcAkYUUXo1f8"
      },
      "source": [
        "def column_formatting(Timestamp_DF):\n",
        "  \"\"\"\n",
        "  Column names of Timestamp annotation excel have column index attached to column name as we only need column name we are parsing column names.\n",
        "\n",
        "  Parameters:\n",
        "  -----\n",
        "  Timestamp_DF = Input the DF after reading the timestamp annotationexcel file to  get list of column names['A1- ECG baseline start','B1- ECG baseline end',.....].\n",
        "\n",
        "  Returns:\n",
        "  -----\n",
        "  Parsed_ColumnNames = list of parsed column names. ['ECG baseline start','ECG baseline end',....]\n",
        "\n",
        "  \"\"\"\n",
        "\n",
        "  Parsed_colnames = ['Subject_ID'] ## Column with Participant ID is not named, so declaring first column as Subject_ID to an empty list\n",
        "\n",
        "  for index in range(1,len(Timestamp_DF.columns)): ## Looping through the list of timestamp annotation columns list\n",
        "    column = Timestamp_DF.columns[index][4:].lstrip() ## Drop first 3 indices of each column and strip space(\" \") if present as left most\n",
        "    Parsed_colnames.append(column) ## appending each column name after parsing\n",
        "\n",
        "  return Parsed_colnames ## returns list fo parsed col names"
      ],
      "execution_count": 7,
      "outputs": []
    },
    {
      "cell_type": "code",
      "metadata": {
        "id": "T4gviV0mo1i_"
      },
      "source": [
        "def Annotation_timestamp(timestamp_path, sheet_name):\n",
        "  \"\"\"\n",
        "  This function is to change the column names of timestamp annotations table and convert timestamps from milliseconds to standart epoch format of seconds.\n",
        "\n",
        "  Parameters:\n",
        "  -----\n",
        "  timestamp_path = path to the directory of file location\n",
        "  sheet_name =  there are two sheets present in the file, we work on file named D.\n",
        "\n",
        "  Results:\n",
        "  -----\n",
        "  VR_Timestamps_D = Clean dataframe of timestamp annotations table.\n",
        "\n",
        "  \"\"\"\n",
        "\n",
        "  VR_TimeStamps_D = pd.read_excel(Timestamp_path, sheet_name) ## read timestamp annotation file\n",
        "  Parsed_colnames = column_formatting(VR_TimeStamps_D) ## using the column_formatting function defined earlier parse columns\n",
        "  VR_TimeStamps_D.columns = Parsed_colnames ## Change colnames of Dataframe using the parsed list of col names\n",
        "  \n",
        "  ## As timestamp is in string format and in milli seconds iterating through each column to change the timestamp to standard epoch format.\n",
        "  for col in VR_TimeStamps_D.columns: \n",
        "    ## Using Timestamp_Conversion function and lambda fucntion to map the function to each row of the column.\n",
        "    if col == 'Subject_ID':\n",
        "      pass\n",
        "    else:\n",
        "      VR_TimeStamps_D[col] = VR_TimeStamps_D[col].map(lambda instance: TimeStamp_Conversion(instance)) \n",
        "\n",
        "  return VR_TimeStamps_D"
      ],
      "execution_count": 8,
      "outputs": []
    },
    {
      "cell_type": "code",
      "metadata": {
        "id": "ngeZSLuxpAm-"
      },
      "source": [
        "def Shimmers_csv2DF(path,filename):\n",
        "  \"\"\"\n",
        "  This function is to read Shimmer data files and create a dataframe from tidy shimmers csv tables.\n",
        "\n",
        "  Parameters:\n",
        "  -----\n",
        "  path = path to directory of shimmers file folder.\n",
        "\n",
        "  filename = name of the file to be loaded.\n",
        "\n",
        "  Results:\n",
        "  -----\n",
        "  Dataframe = organized and structured Shimmers Data.\n",
        "\n",
        "  \"\"\"\n",
        "\n",
        "  with open(path + '/' + filename, 'r',) as file: # read the file\n",
        "    reader = csv.reader(file)\n",
        "\n",
        "    lists_eachrow = []\n",
        "    for row in reader:\n",
        "      lists_eachrow.append(row) # append each row in reader to a list\n",
        "\n",
        "  del lists_eachrow[0] # del first row of list as it is only about \\t delimiter used\n",
        "\n",
        "  newlists = [] \n",
        "  # loop through the list of lists and split columnar values using the delimiter \n",
        "  for list_row in lists_eachrow:\n",
        "    for row in list_row:\n",
        "      newlists.append(list(row.split('\\t')))\n",
        "  # Extract subjectID from the file name for future use\n",
        "  filename_parse = filename.replace(\"_\", \" \")\n",
        "  Participant_ID = ast.literal_eval(re.findall(r'\\b\\d+\\b', filename_parse)[0])\n",
        "  \n",
        "  # create dataframe from the list of columnar values \n",
        "  Dataframe = pd.DataFrame(newlists, columns = newlists[0])\n",
        "  Dataframe = Dataframe.drop([0,1]) # drop columns 1 and 2 as are column names and units which we already have for new dataframe.\n",
        "  Dataframe.reset_index(drop=True, inplace=True) # reset index\n",
        "\n",
        "  return Dataframe, Participant_ID "
      ],
      "execution_count": 9,
      "outputs": []
    },
    {
      "cell_type": "code",
      "metadata": {
        "id": "mzEhflQwpAp-"
      },
      "source": [
        "def Sliding_Window_GSRFeatureExt(GSR_16Hz,Participant_ID, start_window, overlap, window_length):\n",
        "  \"\"\"\n",
        "  This function is to create a dataframe consisting of statistical features extracted using sliding window technique on Phasic and Tonic components of GSR signal.\n",
        "\n",
        "  Parameters:\n",
        "  -----\n",
        "  GSR_16Hz = This the Dataframe consisting of Phasic and Tonic components of GSR signal along with epoch timestamp of each instance.\n",
        "\n",
        "  Participant_ID = Subject ID extracted in Shimmers_csv2DF function from the file name.\n",
        "  \n",
        "  start_window = 0, starting index of the sliding window\n",
        "  \n",
        "  overlap = 50, sliding window tech. with 50 overlap\n",
        "  \n",
        "  window_length = 100, length of each window (100 rows at once)\n",
        "\n",
        "  Results:\n",
        "  -----\n",
        "  Dataframe consisting of statistical features like Mean Phasic&Tonic components, std Phasic&Tonic components, Count and Mean of Phasic&Tonic Peaks, \n",
        "  Min and Max, Slope, AUC of Phasic&Tonic components for each window of length 100 and overlap of 50.\n",
        "\n",
        " \"\"\"\n",
        "  # creating an array of phasic, tonic and timestamps from the GSR_16Hz dataframe, will be easy to calculate statistical features of numpy array.\n",
        "  phasic  = np.array(GSR_16Hz['phasic']) \n",
        "  tonic  = np.array(GSR_16Hz['tonic'])\n",
        "  timestamp = np.array(GSR_16Hz['TimeStamp'])\n",
        "  dummy = list(range(0,len(GSR_16Hz))) # this is to use as secondary axis to calculate slope.\n",
        "\n",
        "  end_window = window_length\n",
        "  Start_timestamp = []\n",
        "  Mean_timestamp = []\n",
        "  end_timestamp = []\n",
        "  Mean_phasic = []\n",
        "  Mean_tonic = []\n",
        "  Std_phasic = []\n",
        "  Std_tonic = []\n",
        "  CountPeak_phasic = []\n",
        "  CountPeak_tonic = []\n",
        "  MeanPeak_phasic = []\n",
        "  MeanPeak_tonic = []\n",
        "  Min_phasic = []\n",
        "  Max_phasic = []\n",
        "  Min_tonic = []\n",
        "  Max_tonic = []\n",
        "  Slope_tonic = []\n",
        "  Slope_phasic = []\n",
        "  AUC_tonic = []\n",
        "  AUC_phasic = []\n",
        "  while abs(end_window-window_length) <= len(GSR_16Hz): # loop conditon to carry out windowing and calculate features till the end \n",
        "\n",
        "    # creating start, mean and end timestamps helps to  make sure that each window completely falls in annotation period\n",
        "    Start_timestamp.append(timestamp[start_window]) \n",
        "    Mean_timestamp.append(np.mean(timestamp[start_window:end_window]))\n",
        "    try:\n",
        "      end_timestamp.append(timestamp[end_window])\n",
        "    except IndexError: \n",
        "      # index of last window might exceed the last timestamp of our data, if this happens it will use last timestamp of data as end timsatmp of last window\n",
        "      end_timestamp.append(timestamp[-1])\n",
        "\n",
        "    # using numpy to compute statistucal features like mean, std, count\n",
        "    Mean_phasic.append(np.mean(phasic[start_window:end_window]))\n",
        "    Mean_tonic.append(np.mean(tonic[start_window:end_window]))\n",
        "    Std_phasic.append(np.std(phasic[start_window:end_window]))\n",
        "    Std_tonic.append(np.std(tonic[start_window:end_window]))\n",
        "    # scipy.signal.find_peaks exctracts the peaks present in teh signal\n",
        "    CountPeak_phasic.append(scipy.signal.find_peaks(phasic[start_window:end_window])[0].size)\n",
        "    CountPeak_tonic.append(scipy.signal.find_peaks(tonic[start_window:end_window])[0].size)\n",
        "    MeanPeak_phasic.append(np.mean(scipy.signal.find_peaks(phasic[start_window:end_window])[0]))\n",
        "    MeanPeak_tonic.append(np.mean(scipy.signal.find_peaks(tonic[start_window:end_window])[0]))\n",
        "    Min_phasic.append(min(phasic[start_window:end_window]))\n",
        "    Max_phasic.append(max(phasic[start_window:end_window]))\n",
        "    Min_tonic.append(min(tonic[start_window:end_window]))\n",
        "    Max_tonic.append(max(tonic[start_window:end_window]))\n",
        "    # slope is computed using linregress module\n",
        "    Slope_tonic.append(linregress(dummy[start_window:end_window],tonic[start_window:end_window])[0])\n",
        "    Slope_phasic.append(linregress(dummy[start_window:end_window],phasic[start_window:end_window])[0])\n",
        "    # Area under curve is calculated using sk learn metrics\n",
        "    AUC_tonic.append(metrics.auc(dummy[start_window:end_window],tonic[start_window:end_window]))\n",
        "    AUC_phasic.append(metrics.auc(dummy[start_window:end_window],phasic[start_window:end_window]))\n",
        "      \n",
        "    # to increment start and end for next window\n",
        "    start_window += overlap\n",
        "    end_window += overlap\n",
        "  \n",
        "  # create Data frame from the lists of values appended to each feature.\n",
        "  Feature_DF = pd.DataFrame()\n",
        "  Feature_DF['Start_timestamp'] = Start_timestamp\n",
        "  Feature_DF['Mean_timestamp'] = Mean_timestamp\n",
        "  Feature_DF['End_timestamp'] = end_timestamp\n",
        "  Feature_DF['Mean_phasic'] = Mean_phasic\n",
        "  Feature_DF['Mean_tonic'] = Mean_tonic\n",
        "  Feature_DF['Std_phasic'] = Std_phasic\n",
        "  Feature_DF['Std_tonic'] = Std_tonic\n",
        "  Feature_DF['CountPeak_phasic'] = CountPeak_phasic\n",
        "  Feature_DF['CountPeak_tonic'] = CountPeak_tonic\n",
        "  Feature_DF['MeanPeak_phasic'] = MeanPeak_phasic\n",
        "  Feature_DF['MeanPeak_tonic'] = MeanPeak_tonic\n",
        "  Feature_DF['Min_phasic'] = Min_phasic\n",
        "  Feature_DF['Max_phasic'] = Max_phasic\n",
        "  Feature_DF['Min_tonic'] = Min_tonic\n",
        "  Feature_DF['Max_tonic'] = Max_tonic\n",
        "  Feature_DF['Slope_tonic'] = Slope_tonic\n",
        "  Feature_DF['Slope_phasic'] = Slope_phasic\n",
        "  Feature_DF['AUC_tonic'] = AUC_tonic\n",
        "  Feature_DF['AUC_phasic'] = AUC_phasic\n",
        "  Feature_DF['Subject_ID'] = Participant_ID\n",
        "\n",
        "  return Feature_DF"
      ],
      "execution_count": 10,
      "outputs": []
    },
    {
      "cell_type": "code",
      "metadata": {
        "id": "Y4V5VqnIwFpt"
      },
      "source": [
        "def GSR_features(path,Timestamp_path,method = 'cvxEDA',sheet_name = 'D',start_window=0, overlap=50, window_length=100):\n",
        "\n",
        "  os.chdir(path)\n",
        "  list_csv = glob.glob('*.{}'.format('txt'))\n",
        "  list_csv.extend(glob.glob('*.{}'.format('csv')))\n",
        "\n",
        "  Data = pd.DataFrame()\n",
        "  for index in list_csv:\n",
        "    Dataframe, Participant_ID = Shimmers_csv2DF(path,index)\n",
        "\n",
        "    GSR_128Hz = pd.DataFrame(Dataframe, columns = ['Shimmer_89C4_Timestamp_Unix_CAL','Shimmer_89C4_GSR_Skin_Conductance_CAL'])\n",
        "    GSR_128Hz['Timestamp_s'] = GSR_128Hz['Shimmer_89C4_Timestamp_Unix_CAL'].map(lambda instance: TimeStamp_Conversion(instance))\n",
        "\n",
        "    signal = list(GSR_128Hz['Shimmer_89C4_GSR_Skin_Conductance_CAL'])\n",
        "    signal = list(map(lambda index : ast.literal_eval(index),signal))\n",
        "\n",
        "    signal = mne.filter.resample(signal, down = 8)\n",
        "    len_downsample = len(signal)\n",
        "    start_time = list(GSR_128Hz['Timestamp_s'])[0]\n",
        "    end_time = list(GSR_128Hz['Timestamp_s'])[-1]\n",
        "    duration= end_time-start_time\n",
        "    downsample_freq = len_downsample/duration\n",
        "\n",
        "\n",
        "    list_ts = np.array(np.linspace(start_time,end_time,len_downsample))\n",
        "\n",
        "    GSR_16Hz = pd.DataFrame()\n",
        "    GSR_16Hz['TimeStamp'] = list_ts\n",
        "    GSR_16Hz['GSRC'] = signal\n",
        "\n",
        "    GSR_16Hz['GSRC'] = GSR_16Hz['GSRC'].ewm(span = 16).mean()\n",
        "    min_max_scaler = MinMaxScaler()\n",
        "    GSR_16Hz['GSRC'] = min_max_scaler.fit_transform(np.array(GSR_16Hz['GSRC']).reshape(-1, 1))\n",
        "\n",
        "    eda = (GSR_16Hz['GSRC'])\n",
        "    Phasic_Tonic_DF = eda_phasic(eda,downsample_freq, method)\n",
        "\n",
        "    GSR_16Hz['phasic'] = Phasic_Tonic_DF['EDA_Phasic']\n",
        "    GSR_16Hz['tonic'] = Phasic_Tonic_DF['EDA_Tonic']\n",
        "\n",
        "    Feature_DF = Sliding_Window_GSRFeatureExt(GSR_16Hz,Participant_ID, start_window, overlap, window_length)\n",
        "\n",
        "    VR_TimeStamps_D = Annotation_timestamp(Timestamp_path, sheet_name)\n",
        "\n",
        "    VRBaseline_start = VR_TimeStamps_D.loc[VR_TimeStamps_D['Subject_ID'] == Participant_ID,'VR baseline start'].iloc[0]\n",
        "    VRBaseline_end = VR_TimeStamps_D.loc[VR_TimeStamps_D['Subject_ID'] == Participant_ID,'VR baseline end'].iloc[0]\n",
        "    Speech_start = VR_TimeStamps_D.loc[VR_TimeStamps_D['Subject_ID'] == Participant_ID,'Emotion-induction speech start'].iloc[0]\n",
        "    Speech_end = VR_TimeStamps_D.loc[VR_TimeStamps_D['Subject_ID'] == Participant_ID,'Emotion-induction speech end'].iloc[0]\n",
        "    Food_start = VR_TimeStamps_D.loc[VR_TimeStamps_D['Subject_ID'] == Participant_ID,'Food selection start'].iloc[0]\n",
        "    Food_end = VR_TimeStamps_D.loc[VR_TimeStamps_D['Subject_ID'] == Participant_ID,'food selection end'].iloc[0]\n",
        "\n",
        "    Feature_DF['Event'] = ''\n",
        "\n",
        "    for i in range(0,len(Feature_DF)):\n",
        "      if VRBaseline_start <= Feature_DF['Start_timestamp'][i] <= VRBaseline_end and VRBaseline_start <= Feature_DF['Mean_timestamp'][i] <= VRBaseline_end and VRBaseline_start <= Feature_DF['End_timestamp'][i] <= VRBaseline_end:\n",
        "        Feature_DF['Event'][i] = 'VR Baseline'\n",
        "      elif Speech_start <= Feature_DF['Start_timestamp'][i] <= Speech_end and Speech_start <= Feature_DF['Mean_timestamp'][i] <= Speech_end and Speech_start <= Feature_DF['End_timestamp'][i] <= Speech_end:\n",
        "        Feature_DF['Event'][i] = 'Speech Emotion'\n",
        "      elif Food_start <= Feature_DF['Start_timestamp'][i] <= Food_end and Food_start <= Feature_DF['Mean_timestamp'][i] <= Food_end and Food_start <= Feature_DF['End_timestamp'][i] <= Food_end:\n",
        "        Feature_DF['Event'][i] = 'Food Selection'\n",
        "      else:\n",
        "        Feature_DF.drop(i, inplace = True)\n",
        "\n",
        "    Data = Data.append(Feature_DF, ignore_index=True)\n",
        "    \n",
        "   # Data.to_csv(path+f'/Feature_data.csv')\n",
        "  \n",
        "  return Data"
      ],
      "execution_count": 11,
      "outputs": []
    },
    {
      "cell_type": "code",
      "metadata": {
        "id": "HEQPsiepqlLa",
        "colab": {
          "base_uri": "https://localhost:8080/"
        },
        "outputId": "c772cdf4-9427-4471-b19e-9e74d1d47b1b"
      },
      "source": [
        "path = '/content/gdrive/My Drive/Food_VR/GSR_Preprocessing/W&S_D_Shimmer_GSR'\n",
        "Timestamp_path = '/content/gdrive/My Drive/Food_VR/GSR_Preprocessing/W&S_D_Shimmer_GSR/VR Timestamps for Phase B & D_W&SP20.xlsx'\n",
        "Data = GSR_features(path,Timestamp_path,method = 'cvxEDA',sheet_name = 'D',start_window=0, overlap=50, window_length=100)"
      ],
      "execution_count": 12,
      "outputs": [
        {
          "output_type": "stream",
          "text": [
            "/usr/local/lib/python3.7/dist-packages/numpy/core/fromnumeric.py:3373: RuntimeWarning: Mean of empty slice.\n",
            "  out=out, **kwargs)\n",
            "/usr/local/lib/python3.7/dist-packages/numpy/core/_methods.py:170: RuntimeWarning: invalid value encountered in double_scalars\n",
            "  ret = ret.dtype.type(ret / rcount)\n",
            "/usr/local/lib/python3.7/dist-packages/ipykernel_launcher.py:56: SettingWithCopyWarning: \n",
            "A value is trying to be set on a copy of a slice from a DataFrame\n",
            "\n",
            "See the caveats in the documentation: https://pandas.pydata.org/pandas-docs/stable/user_guide/indexing.html#returning-a-view-versus-a-copy\n",
            "/usr/local/lib/python3.7/dist-packages/ipykernel_launcher.py:58: SettingWithCopyWarning: \n",
            "A value is trying to be set on a copy of a slice from a DataFrame\n",
            "\n",
            "See the caveats in the documentation: https://pandas.pydata.org/pandas-docs/stable/user_guide/indexing.html#returning-a-view-versus-a-copy\n",
            "/usr/local/lib/python3.7/dist-packages/ipykernel_launcher.py:60: SettingWithCopyWarning: \n",
            "A value is trying to be set on a copy of a slice from a DataFrame\n",
            "\n",
            "See the caveats in the documentation: https://pandas.pydata.org/pandas-docs/stable/user_guide/indexing.html#returning-a-view-versus-a-copy\n",
            "/usr/local/lib/python3.7/dist-packages/numpy/core/fromnumeric.py:3373: RuntimeWarning: Mean of empty slice.\n",
            "  out=out, **kwargs)\n",
            "/usr/local/lib/python3.7/dist-packages/numpy/core/_methods.py:170: RuntimeWarning: invalid value encountered in double_scalars\n",
            "  ret = ret.dtype.type(ret / rcount)\n",
            "/usr/local/lib/python3.7/dist-packages/ipykernel_launcher.py:56: SettingWithCopyWarning: \n",
            "A value is trying to be set on a copy of a slice from a DataFrame\n",
            "\n",
            "See the caveats in the documentation: https://pandas.pydata.org/pandas-docs/stable/user_guide/indexing.html#returning-a-view-versus-a-copy\n",
            "/usr/local/lib/python3.7/dist-packages/ipykernel_launcher.py:58: SettingWithCopyWarning: \n",
            "A value is trying to be set on a copy of a slice from a DataFrame\n",
            "\n",
            "See the caveats in the documentation: https://pandas.pydata.org/pandas-docs/stable/user_guide/indexing.html#returning-a-view-versus-a-copy\n",
            "/usr/local/lib/python3.7/dist-packages/ipykernel_launcher.py:60: SettingWithCopyWarning: \n",
            "A value is trying to be set on a copy of a slice from a DataFrame\n",
            "\n",
            "See the caveats in the documentation: https://pandas.pydata.org/pandas-docs/stable/user_guide/indexing.html#returning-a-view-versus-a-copy\n",
            "/usr/local/lib/python3.7/dist-packages/numpy/core/fromnumeric.py:3373: RuntimeWarning: Mean of empty slice.\n",
            "  out=out, **kwargs)\n",
            "/usr/local/lib/python3.7/dist-packages/numpy/core/_methods.py:170: RuntimeWarning: invalid value encountered in double_scalars\n",
            "  ret = ret.dtype.type(ret / rcount)\n",
            "/usr/local/lib/python3.7/dist-packages/ipykernel_launcher.py:56: SettingWithCopyWarning: \n",
            "A value is trying to be set on a copy of a slice from a DataFrame\n",
            "\n",
            "See the caveats in the documentation: https://pandas.pydata.org/pandas-docs/stable/user_guide/indexing.html#returning-a-view-versus-a-copy\n",
            "/usr/local/lib/python3.7/dist-packages/ipykernel_launcher.py:58: SettingWithCopyWarning: \n",
            "A value is trying to be set on a copy of a slice from a DataFrame\n",
            "\n",
            "See the caveats in the documentation: https://pandas.pydata.org/pandas-docs/stable/user_guide/indexing.html#returning-a-view-versus-a-copy\n",
            "/usr/local/lib/python3.7/dist-packages/ipykernel_launcher.py:60: SettingWithCopyWarning: \n",
            "A value is trying to be set on a copy of a slice from a DataFrame\n",
            "\n",
            "See the caveats in the documentation: https://pandas.pydata.org/pandas-docs/stable/user_guide/indexing.html#returning-a-view-versus-a-copy\n",
            "/usr/local/lib/python3.7/dist-packages/numpy/core/fromnumeric.py:3373: RuntimeWarning: Mean of empty slice.\n",
            "  out=out, **kwargs)\n",
            "/usr/local/lib/python3.7/dist-packages/numpy/core/_methods.py:170: RuntimeWarning: invalid value encountered in double_scalars\n",
            "  ret = ret.dtype.type(ret / rcount)\n",
            "/usr/local/lib/python3.7/dist-packages/ipykernel_launcher.py:56: SettingWithCopyWarning: \n",
            "A value is trying to be set on a copy of a slice from a DataFrame\n",
            "\n",
            "See the caveats in the documentation: https://pandas.pydata.org/pandas-docs/stable/user_guide/indexing.html#returning-a-view-versus-a-copy\n",
            "/usr/local/lib/python3.7/dist-packages/ipykernel_launcher.py:58: SettingWithCopyWarning: \n",
            "A value is trying to be set on a copy of a slice from a DataFrame\n",
            "\n",
            "See the caveats in the documentation: https://pandas.pydata.org/pandas-docs/stable/user_guide/indexing.html#returning-a-view-versus-a-copy\n",
            "/usr/local/lib/python3.7/dist-packages/ipykernel_launcher.py:60: SettingWithCopyWarning: \n",
            "A value is trying to be set on a copy of a slice from a DataFrame\n",
            "\n",
            "See the caveats in the documentation: https://pandas.pydata.org/pandas-docs/stable/user_guide/indexing.html#returning-a-view-versus-a-copy\n",
            "/usr/local/lib/python3.7/dist-packages/numpy/core/fromnumeric.py:3373: RuntimeWarning: Mean of empty slice.\n",
            "  out=out, **kwargs)\n",
            "/usr/local/lib/python3.7/dist-packages/numpy/core/_methods.py:170: RuntimeWarning: invalid value encountered in double_scalars\n",
            "  ret = ret.dtype.type(ret / rcount)\n",
            "/usr/local/lib/python3.7/dist-packages/ipykernel_launcher.py:56: SettingWithCopyWarning: \n",
            "A value is trying to be set on a copy of a slice from a DataFrame\n",
            "\n",
            "See the caveats in the documentation: https://pandas.pydata.org/pandas-docs/stable/user_guide/indexing.html#returning-a-view-versus-a-copy\n",
            "/usr/local/lib/python3.7/dist-packages/ipykernel_launcher.py:58: SettingWithCopyWarning: \n",
            "A value is trying to be set on a copy of a slice from a DataFrame\n",
            "\n",
            "See the caveats in the documentation: https://pandas.pydata.org/pandas-docs/stable/user_guide/indexing.html#returning-a-view-versus-a-copy\n",
            "/usr/local/lib/python3.7/dist-packages/ipykernel_launcher.py:60: SettingWithCopyWarning: \n",
            "A value is trying to be set on a copy of a slice from a DataFrame\n",
            "\n",
            "See the caveats in the documentation: https://pandas.pydata.org/pandas-docs/stable/user_guide/indexing.html#returning-a-view-versus-a-copy\n",
            "/usr/local/lib/python3.7/dist-packages/numpy/core/fromnumeric.py:3373: RuntimeWarning: Mean of empty slice.\n",
            "  out=out, **kwargs)\n",
            "/usr/local/lib/python3.7/dist-packages/numpy/core/_methods.py:170: RuntimeWarning: invalid value encountered in double_scalars\n",
            "  ret = ret.dtype.type(ret / rcount)\n",
            "/usr/local/lib/python3.7/dist-packages/ipykernel_launcher.py:56: SettingWithCopyWarning: \n",
            "A value is trying to be set on a copy of a slice from a DataFrame\n",
            "\n",
            "See the caveats in the documentation: https://pandas.pydata.org/pandas-docs/stable/user_guide/indexing.html#returning-a-view-versus-a-copy\n",
            "/usr/local/lib/python3.7/dist-packages/ipykernel_launcher.py:58: SettingWithCopyWarning: \n",
            "A value is trying to be set on a copy of a slice from a DataFrame\n",
            "\n",
            "See the caveats in the documentation: https://pandas.pydata.org/pandas-docs/stable/user_guide/indexing.html#returning-a-view-versus-a-copy\n",
            "/usr/local/lib/python3.7/dist-packages/ipykernel_launcher.py:60: SettingWithCopyWarning: \n",
            "A value is trying to be set on a copy of a slice from a DataFrame\n",
            "\n",
            "See the caveats in the documentation: https://pandas.pydata.org/pandas-docs/stable/user_guide/indexing.html#returning-a-view-versus-a-copy\n",
            "/usr/local/lib/python3.7/dist-packages/numpy/core/fromnumeric.py:3373: RuntimeWarning: Mean of empty slice.\n",
            "  out=out, **kwargs)\n",
            "/usr/local/lib/python3.7/dist-packages/numpy/core/_methods.py:170: RuntimeWarning: invalid value encountered in double_scalars\n",
            "  ret = ret.dtype.type(ret / rcount)\n",
            "/usr/local/lib/python3.7/dist-packages/ipykernel_launcher.py:56: SettingWithCopyWarning: \n",
            "A value is trying to be set on a copy of a slice from a DataFrame\n",
            "\n",
            "See the caveats in the documentation: https://pandas.pydata.org/pandas-docs/stable/user_guide/indexing.html#returning-a-view-versus-a-copy\n",
            "/usr/local/lib/python3.7/dist-packages/ipykernel_launcher.py:58: SettingWithCopyWarning: \n",
            "A value is trying to be set on a copy of a slice from a DataFrame\n",
            "\n",
            "See the caveats in the documentation: https://pandas.pydata.org/pandas-docs/stable/user_guide/indexing.html#returning-a-view-versus-a-copy\n",
            "/usr/local/lib/python3.7/dist-packages/ipykernel_launcher.py:60: SettingWithCopyWarning: \n",
            "A value is trying to be set on a copy of a slice from a DataFrame\n",
            "\n",
            "See the caveats in the documentation: https://pandas.pydata.org/pandas-docs/stable/user_guide/indexing.html#returning-a-view-versus-a-copy\n",
            "/usr/local/lib/python3.7/dist-packages/numpy/core/fromnumeric.py:3373: RuntimeWarning: Mean of empty slice.\n",
            "  out=out, **kwargs)\n",
            "/usr/local/lib/python3.7/dist-packages/numpy/core/_methods.py:170: RuntimeWarning: invalid value encountered in double_scalars\n",
            "  ret = ret.dtype.type(ret / rcount)\n",
            "/usr/local/lib/python3.7/dist-packages/ipykernel_launcher.py:56: SettingWithCopyWarning: \n",
            "A value is trying to be set on a copy of a slice from a DataFrame\n",
            "\n",
            "See the caveats in the documentation: https://pandas.pydata.org/pandas-docs/stable/user_guide/indexing.html#returning-a-view-versus-a-copy\n",
            "/usr/local/lib/python3.7/dist-packages/ipykernel_launcher.py:58: SettingWithCopyWarning: \n",
            "A value is trying to be set on a copy of a slice from a DataFrame\n",
            "\n",
            "See the caveats in the documentation: https://pandas.pydata.org/pandas-docs/stable/user_guide/indexing.html#returning-a-view-versus-a-copy\n",
            "/usr/local/lib/python3.7/dist-packages/ipykernel_launcher.py:60: SettingWithCopyWarning: \n",
            "A value is trying to be set on a copy of a slice from a DataFrame\n",
            "\n",
            "See the caveats in the documentation: https://pandas.pydata.org/pandas-docs/stable/user_guide/indexing.html#returning-a-view-versus-a-copy\n",
            "/usr/local/lib/python3.7/dist-packages/numpy/core/fromnumeric.py:3373: RuntimeWarning: Mean of empty slice.\n",
            "  out=out, **kwargs)\n",
            "/usr/local/lib/python3.7/dist-packages/numpy/core/_methods.py:170: RuntimeWarning: invalid value encountered in double_scalars\n",
            "  ret = ret.dtype.type(ret / rcount)\n",
            "/usr/local/lib/python3.7/dist-packages/ipykernel_launcher.py:56: SettingWithCopyWarning: \n",
            "A value is trying to be set on a copy of a slice from a DataFrame\n",
            "\n",
            "See the caveats in the documentation: https://pandas.pydata.org/pandas-docs/stable/user_guide/indexing.html#returning-a-view-versus-a-copy\n",
            "/usr/local/lib/python3.7/dist-packages/ipykernel_launcher.py:58: SettingWithCopyWarning: \n",
            "A value is trying to be set on a copy of a slice from a DataFrame\n",
            "\n",
            "See the caveats in the documentation: https://pandas.pydata.org/pandas-docs/stable/user_guide/indexing.html#returning-a-view-versus-a-copy\n",
            "/usr/local/lib/python3.7/dist-packages/ipykernel_launcher.py:60: SettingWithCopyWarning: \n",
            "A value is trying to be set on a copy of a slice from a DataFrame\n",
            "\n",
            "See the caveats in the documentation: https://pandas.pydata.org/pandas-docs/stable/user_guide/indexing.html#returning-a-view-versus-a-copy\n",
            "/usr/local/lib/python3.7/dist-packages/numpy/core/fromnumeric.py:3373: RuntimeWarning: Mean of empty slice.\n",
            "  out=out, **kwargs)\n",
            "/usr/local/lib/python3.7/dist-packages/numpy/core/_methods.py:170: RuntimeWarning: invalid value encountered in double_scalars\n",
            "  ret = ret.dtype.type(ret / rcount)\n",
            "/usr/local/lib/python3.7/dist-packages/ipykernel_launcher.py:56: SettingWithCopyWarning: \n",
            "A value is trying to be set on a copy of a slice from a DataFrame\n",
            "\n",
            "See the caveats in the documentation: https://pandas.pydata.org/pandas-docs/stable/user_guide/indexing.html#returning-a-view-versus-a-copy\n",
            "/usr/local/lib/python3.7/dist-packages/ipykernel_launcher.py:58: SettingWithCopyWarning: \n",
            "A value is trying to be set on a copy of a slice from a DataFrame\n",
            "\n",
            "See the caveats in the documentation: https://pandas.pydata.org/pandas-docs/stable/user_guide/indexing.html#returning-a-view-versus-a-copy\n",
            "/usr/local/lib/python3.7/dist-packages/ipykernel_launcher.py:60: SettingWithCopyWarning: \n",
            "A value is trying to be set on a copy of a slice from a DataFrame\n",
            "\n",
            "See the caveats in the documentation: https://pandas.pydata.org/pandas-docs/stable/user_guide/indexing.html#returning-a-view-versus-a-copy\n",
            "/usr/local/lib/python3.7/dist-packages/numpy/core/fromnumeric.py:3373: RuntimeWarning: Mean of empty slice.\n",
            "  out=out, **kwargs)\n",
            "/usr/local/lib/python3.7/dist-packages/numpy/core/_methods.py:170: RuntimeWarning: invalid value encountered in double_scalars\n",
            "  ret = ret.dtype.type(ret / rcount)\n",
            "/usr/local/lib/python3.7/dist-packages/ipykernel_launcher.py:56: SettingWithCopyWarning: \n",
            "A value is trying to be set on a copy of a slice from a DataFrame\n",
            "\n",
            "See the caveats in the documentation: https://pandas.pydata.org/pandas-docs/stable/user_guide/indexing.html#returning-a-view-versus-a-copy\n",
            "/usr/local/lib/python3.7/dist-packages/ipykernel_launcher.py:58: SettingWithCopyWarning: \n",
            "A value is trying to be set on a copy of a slice from a DataFrame\n",
            "\n",
            "See the caveats in the documentation: https://pandas.pydata.org/pandas-docs/stable/user_guide/indexing.html#returning-a-view-versus-a-copy\n",
            "/usr/local/lib/python3.7/dist-packages/ipykernel_launcher.py:60: SettingWithCopyWarning: \n",
            "A value is trying to be set on a copy of a slice from a DataFrame\n",
            "\n",
            "See the caveats in the documentation: https://pandas.pydata.org/pandas-docs/stable/user_guide/indexing.html#returning-a-view-versus-a-copy\n",
            "/usr/local/lib/python3.7/dist-packages/numpy/core/fromnumeric.py:3373: RuntimeWarning: Mean of empty slice.\n",
            "  out=out, **kwargs)\n",
            "/usr/local/lib/python3.7/dist-packages/numpy/core/_methods.py:170: RuntimeWarning: invalid value encountered in double_scalars\n",
            "  ret = ret.dtype.type(ret / rcount)\n",
            "/usr/local/lib/python3.7/dist-packages/ipykernel_launcher.py:56: SettingWithCopyWarning: \n",
            "A value is trying to be set on a copy of a slice from a DataFrame\n",
            "\n",
            "See the caveats in the documentation: https://pandas.pydata.org/pandas-docs/stable/user_guide/indexing.html#returning-a-view-versus-a-copy\n",
            "/usr/local/lib/python3.7/dist-packages/ipykernel_launcher.py:58: SettingWithCopyWarning: \n",
            "A value is trying to be set on a copy of a slice from a DataFrame\n",
            "\n",
            "See the caveats in the documentation: https://pandas.pydata.org/pandas-docs/stable/user_guide/indexing.html#returning-a-view-versus-a-copy\n",
            "/usr/local/lib/python3.7/dist-packages/ipykernel_launcher.py:60: SettingWithCopyWarning: \n",
            "A value is trying to be set on a copy of a slice from a DataFrame\n",
            "\n",
            "See the caveats in the documentation: https://pandas.pydata.org/pandas-docs/stable/user_guide/indexing.html#returning-a-view-versus-a-copy\n",
            "/usr/local/lib/python3.7/dist-packages/numpy/core/fromnumeric.py:3373: RuntimeWarning: Mean of empty slice.\n",
            "  out=out, **kwargs)\n",
            "/usr/local/lib/python3.7/dist-packages/numpy/core/_methods.py:170: RuntimeWarning: invalid value encountered in double_scalars\n",
            "  ret = ret.dtype.type(ret / rcount)\n",
            "/usr/local/lib/python3.7/dist-packages/ipykernel_launcher.py:56: SettingWithCopyWarning: \n",
            "A value is trying to be set on a copy of a slice from a DataFrame\n",
            "\n",
            "See the caveats in the documentation: https://pandas.pydata.org/pandas-docs/stable/user_guide/indexing.html#returning-a-view-versus-a-copy\n",
            "/usr/local/lib/python3.7/dist-packages/ipykernel_launcher.py:58: SettingWithCopyWarning: \n",
            "A value is trying to be set on a copy of a slice from a DataFrame\n",
            "\n",
            "See the caveats in the documentation: https://pandas.pydata.org/pandas-docs/stable/user_guide/indexing.html#returning-a-view-versus-a-copy\n",
            "/usr/local/lib/python3.7/dist-packages/ipykernel_launcher.py:60: SettingWithCopyWarning: \n",
            "A value is trying to be set on a copy of a slice from a DataFrame\n",
            "\n",
            "See the caveats in the documentation: https://pandas.pydata.org/pandas-docs/stable/user_guide/indexing.html#returning-a-view-versus-a-copy\n"
          ],
          "name": "stderr"
        }
      ]
    },
    {
      "cell_type": "code",
      "metadata": {
        "colab": {
          "base_uri": "https://localhost:8080/",
          "height": 299
        },
        "id": "WCI-FT1splqa",
        "outputId": "d71ce4af-bc7e-4c75-b67c-9da7c3fb2fc6"
      },
      "source": [
        "Data.head()"
      ],
      "execution_count": 13,
      "outputs": [
        {
          "output_type": "execute_result",
          "data": {
            "text/html": [
              "<div>\n",
              "<style scoped>\n",
              "    .dataframe tbody tr th:only-of-type {\n",
              "        vertical-align: middle;\n",
              "    }\n",
              "\n",
              "    .dataframe tbody tr th {\n",
              "        vertical-align: top;\n",
              "    }\n",
              "\n",
              "    .dataframe thead th {\n",
              "        text-align: right;\n",
              "    }\n",
              "</style>\n",
              "<table border=\"1\" class=\"dataframe\">\n",
              "  <thead>\n",
              "    <tr style=\"text-align: right;\">\n",
              "      <th></th>\n",
              "      <th>Start_timestamp</th>\n",
              "      <th>Mean_timestamp</th>\n",
              "      <th>End_timestamp</th>\n",
              "      <th>Mean_phasic</th>\n",
              "      <th>Mean_tonic</th>\n",
              "      <th>Std_phasic</th>\n",
              "      <th>Std_tonic</th>\n",
              "      <th>CountPeak_phasic</th>\n",
              "      <th>CountPeak_tonic</th>\n",
              "      <th>MeanPeak_phasic</th>\n",
              "      <th>MeanPeak_tonic</th>\n",
              "      <th>Min_phasic</th>\n",
              "      <th>Max_phasic</th>\n",
              "      <th>Min_tonic</th>\n",
              "      <th>Max_tonic</th>\n",
              "      <th>Slope_tonic</th>\n",
              "      <th>Slope_phasic</th>\n",
              "      <th>AUC_tonic</th>\n",
              "      <th>AUC_phasic</th>\n",
              "      <th>Subject_ID</th>\n",
              "      <th>Event</th>\n",
              "    </tr>\n",
              "  </thead>\n",
              "  <tbody>\n",
              "    <tr>\n",
              "      <th>0</th>\n",
              "      <td>1.579628e+09</td>\n",
              "      <td>1.579628e+09</td>\n",
              "      <td>1.579628e+09</td>\n",
              "      <td>0.137788</td>\n",
              "      <td>0.349071</td>\n",
              "      <td>0.025615</td>\n",
              "      <td>0.007046</td>\n",
              "      <td>1</td>\n",
              "      <td>0</td>\n",
              "      <td>53.0</td>\n",
              "      <td>NaN</td>\n",
              "      <td>0.076014</td>\n",
              "      <td>0.175401</td>\n",
              "      <td>0.342443</td>\n",
              "      <td>0.366755</td>\n",
              "      <td>-0.000206</td>\n",
              "      <td>-0.000422</td>\n",
              "      <td>34.549886</td>\n",
              "      <td>13.644040</td>\n",
              "      <td>877</td>\n",
              "      <td>VR Baseline</td>\n",
              "    </tr>\n",
              "    <tr>\n",
              "      <th>1</th>\n",
              "      <td>1.579628e+09</td>\n",
              "      <td>1.579628e+09</td>\n",
              "      <td>1.579628e+09</td>\n",
              "      <td>0.155515</td>\n",
              "      <td>0.353225</td>\n",
              "      <td>0.035974</td>\n",
              "      <td>0.011774</td>\n",
              "      <td>2</td>\n",
              "      <td>0</td>\n",
              "      <td>35.5</td>\n",
              "      <td>NaN</td>\n",
              "      <td>0.076014</td>\n",
              "      <td>0.197143</td>\n",
              "      <td>0.342443</td>\n",
              "      <td>0.381280</td>\n",
              "      <td>0.000375</td>\n",
              "      <td>0.000533</td>\n",
              "      <td>34.959472</td>\n",
              "      <td>15.382076</td>\n",
              "      <td>877</td>\n",
              "      <td>VR Baseline</td>\n",
              "    </tr>\n",
              "    <tr>\n",
              "      <th>2</th>\n",
              "      <td>1.579628e+09</td>\n",
              "      <td>1.579628e+09</td>\n",
              "      <td>1.579628e+09</td>\n",
              "      <td>0.157048</td>\n",
              "      <td>0.384361</td>\n",
              "      <td>0.029731</td>\n",
              "      <td>0.025013</td>\n",
              "      <td>1</td>\n",
              "      <td>0</td>\n",
              "      <td>18.0</td>\n",
              "      <td>NaN</td>\n",
              "      <td>0.098688</td>\n",
              "      <td>0.197143</td>\n",
              "      <td>0.348055</td>\n",
              "      <td>0.430875</td>\n",
              "      <td>0.000863</td>\n",
              "      <td>-0.000913</td>\n",
              "      <td>38.046656</td>\n",
              "      <td>15.581668</td>\n",
              "      <td>877</td>\n",
              "      <td>VR Baseline</td>\n",
              "    </tr>\n",
              "    <tr>\n",
              "      <th>3</th>\n",
              "      <td>1.579628e+09</td>\n",
              "      <td>1.579628e+09</td>\n",
              "      <td>1.579628e+09</td>\n",
              "      <td>0.097678</td>\n",
              "      <td>0.430603</td>\n",
              "      <td>0.039593</td>\n",
              "      <td>0.028115</td>\n",
              "      <td>0</td>\n",
              "      <td>0</td>\n",
              "      <td>NaN</td>\n",
              "      <td>NaN</td>\n",
              "      <td>0.037392</td>\n",
              "      <td>0.165216</td>\n",
              "      <td>0.382184</td>\n",
              "      <td>0.475994</td>\n",
              "      <td>0.000974</td>\n",
              "      <td>-0.001369</td>\n",
              "      <td>42.631168</td>\n",
              "      <td>9.666480</td>\n",
              "      <td>877</td>\n",
              "      <td>VR Baseline</td>\n",
              "    </tr>\n",
              "    <tr>\n",
              "      <th>4</th>\n",
              "      <td>1.579628e+09</td>\n",
              "      <td>1.579628e+09</td>\n",
              "      <td>1.579628e+09</td>\n",
              "      <td>0.041411</td>\n",
              "      <td>0.472420</td>\n",
              "      <td>0.025445</td>\n",
              "      <td>0.020160</td>\n",
              "      <td>0</td>\n",
              "      <td>0</td>\n",
              "      <td>NaN</td>\n",
              "      <td>NaN</td>\n",
              "      <td>0.008732</td>\n",
              "      <td>0.097300</td>\n",
              "      <td>0.431889</td>\n",
              "      <td>0.498678</td>\n",
              "      <td>0.000688</td>\n",
              "      <td>-0.000864</td>\n",
              "      <td>46.776745</td>\n",
              "      <td>4.088084</td>\n",
              "      <td>877</td>\n",
              "      <td>VR Baseline</td>\n",
              "    </tr>\n",
              "  </tbody>\n",
              "</table>\n",
              "</div>"
            ],
            "text/plain": [
              "   Start_timestamp  Mean_timestamp  ...  Subject_ID        Event\n",
              "0     1.579628e+09    1.579628e+09  ...         877  VR Baseline\n",
              "1     1.579628e+09    1.579628e+09  ...         877  VR Baseline\n",
              "2     1.579628e+09    1.579628e+09  ...         877  VR Baseline\n",
              "3     1.579628e+09    1.579628e+09  ...         877  VR Baseline\n",
              "4     1.579628e+09    1.579628e+09  ...         877  VR Baseline\n",
              "\n",
              "[5 rows x 21 columns]"
            ]
          },
          "metadata": {
            "tags": []
          },
          "execution_count": 13
        }
      ]
    },
    {
      "cell_type": "code",
      "metadata": {
        "id": "kGGR4m060Ssw"
      },
      "source": [
        "DataFrame = Data.drop(['End_timestamp','Start_timestamp','Mean_timestamp' ], axis=1)"
      ],
      "execution_count": 14,
      "outputs": []
    },
    {
      "cell_type": "code",
      "metadata": {
        "colab": {
          "base_uri": "https://localhost:8080/"
        },
        "id": "ZptoKEyRzodj",
        "outputId": "05ffdc9f-24ac-486d-a2e7-fa95573cbea7"
      },
      "source": [
        "DataFrame.shape"
      ],
      "execution_count": 15,
      "outputs": [
        {
          "output_type": "execute_result",
          "data": {
            "text/plain": [
              "(1462, 18)"
            ]
          },
          "metadata": {
            "tags": []
          },
          "execution_count": 15
        }
      ]
    },
    {
      "cell_type": "code",
      "metadata": {
        "colab": {
          "base_uri": "https://localhost:8080/"
        },
        "id": "JPGSgyFiz19q",
        "outputId": "2ad90a28-17c8-4c71-8156-a1ccffdc17f1"
      },
      "source": [
        "DataFrame.info()"
      ],
      "execution_count": 16,
      "outputs": [
        {
          "output_type": "stream",
          "text": [
            "<class 'pandas.core.frame.DataFrame'>\n",
            "RangeIndex: 1462 entries, 0 to 1461\n",
            "Data columns (total 18 columns):\n",
            " #   Column            Non-Null Count  Dtype  \n",
            "---  ------            --------------  -----  \n",
            " 0   Mean_phasic       1462 non-null   float64\n",
            " 1   Mean_tonic        1462 non-null   float64\n",
            " 2   Std_phasic        1462 non-null   float64\n",
            " 3   Std_tonic         1462 non-null   float64\n",
            " 4   CountPeak_phasic  1462 non-null   int64  \n",
            " 5   CountPeak_tonic   1462 non-null   int64  \n",
            " 6   MeanPeak_phasic   1016 non-null   float64\n",
            " 7   MeanPeak_tonic    281 non-null    float64\n",
            " 8   Min_phasic        1462 non-null   float64\n",
            " 9   Max_phasic        1462 non-null   float64\n",
            " 10  Min_tonic         1462 non-null   float64\n",
            " 11  Max_tonic         1462 non-null   float64\n",
            " 12  Slope_tonic       1462 non-null   float64\n",
            " 13  Slope_phasic      1462 non-null   float64\n",
            " 14  AUC_tonic         1462 non-null   float64\n",
            " 15  AUC_phasic        1462 non-null   float64\n",
            " 16  Subject_ID        1462 non-null   int64  \n",
            " 17  Event             1462 non-null   object \n",
            "dtypes: float64(14), int64(3), object(1)\n",
            "memory usage: 205.7+ KB\n"
          ],
          "name": "stdout"
        }
      ]
    },
    {
      "cell_type": "code",
      "metadata": {
        "colab": {
          "base_uri": "https://localhost:8080/"
        },
        "id": "2DmWNJa8z6Qm",
        "outputId": "b00c42d8-8325-4223-f306-6c560016259d"
      },
      "source": [
        "DataFrame.isnull().sum()"
      ],
      "execution_count": 17,
      "outputs": [
        {
          "output_type": "execute_result",
          "data": {
            "text/plain": [
              "Mean_phasic            0\n",
              "Mean_tonic             0\n",
              "Std_phasic             0\n",
              "Std_tonic              0\n",
              "CountPeak_phasic       0\n",
              "CountPeak_tonic        0\n",
              "MeanPeak_phasic      446\n",
              "MeanPeak_tonic      1181\n",
              "Min_phasic             0\n",
              "Max_phasic             0\n",
              "Min_tonic              0\n",
              "Max_tonic              0\n",
              "Slope_tonic            0\n",
              "Slope_phasic           0\n",
              "AUC_tonic              0\n",
              "AUC_phasic             0\n",
              "Subject_ID             0\n",
              "Event                  0\n",
              "dtype: int64"
            ]
          },
          "metadata": {
            "tags": []
          },
          "execution_count": 17
        }
      ]
    },
    {
      "cell_type": "code",
      "metadata": {
        "id": "yQnI7YLO0Z-J"
      },
      "source": [
        "DataFrame = DataFrame.fillna(0)"
      ],
      "execution_count": 18,
      "outputs": []
    },
    {
      "cell_type": "code",
      "metadata": {
        "colab": {
          "base_uri": "https://localhost:8080/"
        },
        "id": "1pN1XBxi1UME",
        "outputId": "1bea3fe8-6c66-43b5-e8ec-411dd1af8dcb"
      },
      "source": [
        "DataFrame.Event.value_counts()"
      ],
      "execution_count": 19,
      "outputs": [
        {
          "output_type": "execute_result",
          "data": {
            "text/plain": [
              "Food Selection    489\n",
              "Speech Emotion    487\n",
              "VR Baseline       486\n",
              "Name: Event, dtype: int64"
            ]
          },
          "metadata": {
            "tags": []
          },
          "execution_count": 19
        }
      ]
    },
    {
      "cell_type": "code",
      "metadata": {
        "colab": {
          "base_uri": "https://localhost:8080/"
        },
        "id": "IAgeTrjH1jJQ",
        "outputId": "6ecfe623-9b05-47c4-ea15-c381574c768f"
      },
      "source": [
        "DataFrame.Subject_ID.value_counts()"
      ],
      "execution_count": 20,
      "outputs": [
        {
          "output_type": "execute_result",
          "data": {
            "text/plain": [
              "966     171\n",
              "984     121\n",
              "1056    119\n",
              "961     118\n",
              "820     118\n",
              "946     111\n",
              "942     111\n",
              "877     111\n",
              "793     108\n",
              "963     102\n",
              "1058     99\n",
              "962      99\n",
              "937      74\n",
              "Name: Subject_ID, dtype: int64"
            ]
          },
          "metadata": {
            "tags": []
          },
          "execution_count": 20
        }
      ]
    },
    {
      "cell_type": "code",
      "metadata": {
        "id": "WWDLIB_EXudO"
      },
      "source": [
        ""
      ],
      "execution_count": null,
      "outputs": []
    },
    {
      "cell_type": "code",
      "metadata": {
        "id": "luluwy_la5OB"
      },
      "source": [
        "def Tonic_col(columns):\n",
        "  tonic_col = []\n",
        "  for x in columns:\n",
        "    if 'tonic' in x:\n",
        "      tonic_col.append(x)\n",
        "  return tonic_col"
      ],
      "execution_count": 21,
      "outputs": []
    },
    {
      "cell_type": "code",
      "metadata": {
        "id": "ArfSdYYZYYTp"
      },
      "source": [
        "from numpy import interp\n",
        "from sklearn.ensemble import RandomForestClassifier\n",
        "from sklearn.linear_model import LogisticRegression\n",
        "from sklearn.model_selection import KFold \n",
        "from sklearn.neighbors import KNeighborsClassifier\n",
        "from sklearn.model_selection import train_test_split\n",
        "from sklearn.model_selection import GridSearchCV\n",
        "from sklearn.model_selection import cross_val_score\n",
        "from sklearn.model_selection import cross_validate, LeaveOneGroupOut, StratifiedKFold\n",
        "from sklearn import metrics\n",
        "from sklearn.metrics import roc_curve,auc, roc_auc_score, make_scorer\n",
        "from sklearn.metrics import make_scorer\n",
        "from sklearn.metrics import recall_score\n",
        "from sklearn.metrics import accuracy_score\n",
        "import matplotlib.pylab as plt"
      ],
      "execution_count": 22,
      "outputs": []
    },
    {
      "cell_type": "code",
      "metadata": {
        "id": "vlfRIcJmDWGh"
      },
      "source": [
        "rf = RandomForestClassifier(random_state = 42)\n",
        "logreg = LogisticRegression(solver='lbfgs',penalty='l2',max_iter=500)\n",
        "knn = KNeighborsClassifier()"
      ],
      "execution_count": 25,
      "outputs": []
    },
    {
      "cell_type": "code",
      "metadata": {
        "id": "r-V9IDgoDTXg"
      },
      "source": [
        "def Training(empty_exp_list,Data,Phasic:bool,KFold:bool):\n",
        "  \n",
        "  if Phasic == True:\n",
        "    col_list = Data.columns\n",
        "    tonic_col = Tonic_col(col_list)\n",
        "    DataFrame = Data.drop(tonic_col,axis =1)\n",
        "  else:\n",
        "    DataFrame = Data\n",
        "\n",
        "  VRBaseline_Speech = DataFrame.loc[DataFrame['Event'].isin(['VR Baseline','Speech Emotion'])]\n",
        "  VRBaseline_Speech[\"Event\"] = VRBaseline_Speech[\"Event\"].astype('category').cat.codes\n",
        "  VRBaseline_FoodSelec = DataFrame.loc[DataFrame['Event'].isin(['VR Baseline','Food Selection'])]\n",
        "  VRBaseline_FoodSelec[\"Event\"] = VRBaseline_FoodSelec[\"Event\"].astype('category').cat.codes\n",
        "  Speech_FoodSelec = DataFrame.loc[DataFrame['Event'].isin(['Food Selection','Speech Emotion'])]\n",
        "  Speech_FoodSelec[\"Event\"] = Speech_FoodSelec[\"Event\"].astype('category').cat.codes\n",
        "    \n",
        "  dict_exp = {'VR Baseline vs Speech':VRBaseline_Speech,\n",
        "            'VR Baseline vs VR FoodSelec':VRBaseline_FoodSelec,\n",
        "            'Speech vs VR FoodSelec':Speech_FoodSelec}\n",
        "\n",
        "  for experiment, data in dict_exp.items():\n",
        "    \n",
        "    result_dict = {'experiment':experiment}\n",
        "    \n",
        "    if KFold == True:\n",
        "      data = data.drop(['Subject_ID'], axis=1)\n",
        "\n",
        "      feature = np.array(data.iloc[:,:-1])\n",
        "      target = np.array(data.iloc[:,-1]) \n",
        "\n",
        "      cv = StratifiedKFold(n_splits=13)\n",
        "\n",
        "      accuracy_rf=[]\n",
        "      accuracy_logreg=[]\n",
        "      accuracy_knn=[]\n",
        "      auc_rf=[]\n",
        "      auc_logreg=[]\n",
        "      auc_knn=[]\n",
        "      \n",
        "      for train, test in cv.split(feature,target):\n",
        "        subject_ID = None\n",
        "        rf_cv=rf.fit(feature[train],target[train])\n",
        "        logreg_cv=logreg.fit(feature[train],target[train])\n",
        "        knn_cv=knn.fit(feature[train],target[train])\n",
        "\n",
        "        y_pred_rf = rf_cv.predict(feature[test])\n",
        "        fpr, tpr, threshhold = roc_curve(target[test],y_pred_rf)\n",
        "        auc_RF = auc(fpr,tpr)\n",
        "        accuracy_RF = accuracy_score(target[test],y_pred_rf)\n",
        "\n",
        "        accuracy_rf.append(accuracy_RF)\n",
        "        auc_rf.append(auc_RF)\n",
        "\n",
        "        y_pred_logreg = logreg_cv.predict(feature[test])\n",
        "        fpr, tpr, threshhold = roc_curve(target[test],y_pred_logreg)\n",
        "        auc_LR = auc(fpr,tpr)\n",
        "        accuracy_LR = accuracy_score(target[test],y_pred_logreg)\n",
        "\n",
        "        accuracy_logreg.append(accuracy_LR)\n",
        "        auc_logreg.append(auc_LR)\n",
        "\n",
        "        y_pred_knn = knn_cv.predict(feature[test])\n",
        "        fpr, tpr, threshhold = roc_curve(target[test],y_pred_logreg)\n",
        "        auc_KNN = auc(fpr,tpr)\n",
        "        accuracy_KNN = accuracy_score(target[test],y_pred_knn)\n",
        "\n",
        "        accuracy_knn.append(accuracy_KNN)\n",
        "        auc_knn.append(auc_KNN)\n",
        "\n",
        "    else:\n",
        "      subject_id = data['Subject_ID']\n",
        "      data = data.drop(['Subject_ID'], axis=1)\n",
        "\n",
        "      feature = np.array(data.iloc[:,:-1])\n",
        "      target = np.array(data.iloc[:,-1])\n",
        "      groups = np.array(subject_id)\n",
        "    \n",
        "      logo = LeaveOneGroupOut()\n",
        "      logo.get_n_splits(feature, target, groups)\n",
        "      logo.get_n_splits(groups=groups)\n",
        "\n",
        "      accuracy_rf=[]\n",
        "      accuracy_logreg=[]\n",
        "      accuracy_knn=[]\n",
        "      auc_rf=[]\n",
        "      auc_logreg=[]\n",
        "      auc_knn=[]\n",
        "\n",
        "      subject_ID_avg = {}\n",
        "\n",
        "      for train,test in logo.split(feature,target,groups):\n",
        "        \n",
        "        rf_cv=rf.fit(feature[train],target[train])\n",
        "        logreg_cv=logreg.fit(feature[train],target[train])\n",
        "        knn_cv=knn.fit(feature[train],target[train])\n",
        "\n",
        "        y_pred_rf = rf_cv.predict(feature[test])\n",
        "        fpr, tpr, threshhold = roc_curve(target[test],y_pred_rf)\n",
        "        auc_RF = auc(fpr,tpr)\n",
        "        accuracy_RF = accuracy_score(target[test],y_pred_rf)\n",
        "\n",
        "        accuracy_rf.append(accuracy_RF)\n",
        "        auc_rf.append(auc_RF)\n",
        "\n",
        "        y_pred_logreg = logreg_cv.predict(feature[test])\n",
        "        fpr, tpr, threshhold = roc_curve(target[test],y_pred_logreg)\n",
        "        auc_LR = auc(fpr,tpr)\n",
        "        accuracy_LR = accuracy_score(target[test],y_pred_logreg)\n",
        "\n",
        "        accuracy_logreg.append(accuracy_LR)\n",
        "        auc_logreg.append(auc_LR)\n",
        "\n",
        "        y_pred_knn = knn_cv.predict(feature[test])\n",
        "        fpr, tpr, threshhold = roc_curve(target[test],y_pred_knn)\n",
        "        auc_KNN = auc(fpr,tpr)\n",
        "        accuracy_KNN = accuracy_score(target[test],y_pred_knn)\n",
        "        \n",
        "        accuracy_knn.append(accuracy_KNN)\n",
        "        auc_knn.append(auc_KNN)\n",
        "\n",
        "        subject_ID = groups[test][0]\n",
        "        subject_ID_avg[str(subject_ID)] = {'accuracy_rf':accuracy_RF,\n",
        "                                          'auc_rf':auc_RF, \n",
        "                                          'accuracy_logreg':accuracy_LR,\n",
        "                                          'auc_logreg':auc_LR,\n",
        "                                          'accuracy_knn':accuracy_KNN,\n",
        "                                          'auc_knn':auc_KNN}\n",
        "    \n",
        "    if KFold == True:\n",
        "      pass\n",
        "    else:\n",
        "      result_dict['Subject_ID'] = subject_ID_avg\n",
        "\n",
        "    result_dict['accuracy_score_testing'] = {'rf_cv':np.mean(accuracy_rf),\n",
        "                                              'logreg_cv':np.mean(accuracy_logreg),\n",
        "                                              'knn_cv':np.mean(accuracy_knn)}\n",
        "\n",
        "    result_dict['auc_score_testing'] = {'rf_cv':np.mean(auc_rf),\n",
        "                                              'logreg_cv':np.mean(auc_logreg),\n",
        "                                              'knn_cv':np.mean(auc_knn)}\n",
        "\n",
        "    empty_exp_list.append(result_dict)\n",
        "\n",
        "  return empty_exp_list"
      ],
      "execution_count": 23,
      "outputs": []
    },
    {
      "cell_type": "code",
      "metadata": {
        "id": "sxO-Y7rCXW0z",
        "colab": {
          "base_uri": "https://localhost:8080/"
        },
        "outputId": "8a38688d-9bd8-4c44-d7fd-5575d53c24d6"
      },
      "source": [
        "KFoldCV_results = []\n",
        "KFoldCV_results = Training(KFoldCV_results,DataFrame,Phasic = False, KFold = True)"
      ],
      "execution_count": 26,
      "outputs": [
        {
          "output_type": "stream",
          "text": [
            "/usr/local/lib/python3.7/dist-packages/ipykernel_launcher.py:11: SettingWithCopyWarning: \n",
            "A value is trying to be set on a copy of a slice from a DataFrame.\n",
            "Try using .loc[row_indexer,col_indexer] = value instead\n",
            "\n",
            "See the caveats in the documentation: https://pandas.pydata.org/pandas-docs/stable/user_guide/indexing.html#returning-a-view-versus-a-copy\n",
            "  # This is added back by InteractiveShellApp.init_path()\n",
            "/usr/local/lib/python3.7/dist-packages/ipykernel_launcher.py:13: SettingWithCopyWarning: \n",
            "A value is trying to be set on a copy of a slice from a DataFrame.\n",
            "Try using .loc[row_indexer,col_indexer] = value instead\n",
            "\n",
            "See the caveats in the documentation: https://pandas.pydata.org/pandas-docs/stable/user_guide/indexing.html#returning-a-view-versus-a-copy\n",
            "  del sys.path[0]\n",
            "/usr/local/lib/python3.7/dist-packages/ipykernel_launcher.py:15: SettingWithCopyWarning: \n",
            "A value is trying to be set on a copy of a slice from a DataFrame.\n",
            "Try using .loc[row_indexer,col_indexer] = value instead\n",
            "\n",
            "See the caveats in the documentation: https://pandas.pydata.org/pandas-docs/stable/user_guide/indexing.html#returning-a-view-versus-a-copy\n",
            "  from ipykernel import kernelapp as app\n"
          ],
          "name": "stderr"
        }
      ]
    },
    {
      "cell_type": "code",
      "metadata": {
        "colab": {
          "base_uri": "https://localhost:8080/"
        },
        "id": "irW788JrXgiW",
        "outputId": "ccc5f9ac-6e23-495c-8c06-586e6b322349"
      },
      "source": [
        "KFoldCV_results"
      ],
      "execution_count": 27,
      "outputs": [
        {
          "output_type": "execute_result",
          "data": {
            "text/plain": [
              "[{'accuracy_score_testing': {'knn_cv': 0.8497020097020098,\n",
              "   'logreg_cv': 0.814081774081774,\n",
              "   'rf_cv': 0.8897851697851699},\n",
              "  'auc_score_testing': {'knn_cv': 0.8152150125834337,\n",
              "   'logreg_cv': 0.8152150125834337,\n",
              "   'rf_cv': 0.8903873509136667},\n",
              "  'experiment': 'VR Baseline vs Speech'},\n",
              " {'accuracy_score_testing': {'knn_cv': 0.7158974358974357,\n",
              "   'logreg_cv': 0.7046153846153845,\n",
              "   'rf_cv': 0.8215384615384613},\n",
              "  'auc_score_testing': {'knn_cv': 0.7061768245978771,\n",
              "   'logreg_cv': 0.7061768245978771,\n",
              "   'rf_cv': 0.8222179669548091},\n",
              "  'experiment': 'VR Baseline vs VR FoodSelec'},\n",
              " {'accuracy_score_testing': {'knn_cv': 0.4979757085020244,\n",
              "   'logreg_cv': 0.5615384615384615,\n",
              "   'rf_cv': 0.48576248313090414},\n",
              "  'auc_score_testing': {'knn_cv': 0.5599354415143889,\n",
              "   'logreg_cv': 0.5599354415143889,\n",
              "   'rf_cv': 0.4844621949885108},\n",
              "  'experiment': 'Speech vs VR FoodSelec'}]"
            ]
          },
          "metadata": {
            "tags": []
          },
          "execution_count": 27
        }
      ]
    },
    {
      "cell_type": "code",
      "metadata": {
        "id": "k-8bo8CouSUK"
      },
      "source": [
        "KFoldCV = pd.DataFrame()\n",
        "for index in KFoldCV_results:\n",
        "  df = pd.DataFrame(index)\n",
        "  KFoldCV = KFoldCV.append(df)"
      ],
      "execution_count": 28,
      "outputs": []
    },
    {
      "cell_type": "code",
      "metadata": {
        "colab": {
          "base_uri": "https://localhost:8080/",
          "height": 314
        },
        "id": "mDxzA7cJe1jQ",
        "outputId": "7991d775-f04e-4fc2-d90a-5d20ba18be83"
      },
      "source": [
        "KFoldCV"
      ],
      "execution_count": 29,
      "outputs": [
        {
          "output_type": "execute_result",
          "data": {
            "text/html": [
              "<div>\n",
              "<style scoped>\n",
              "    .dataframe tbody tr th:only-of-type {\n",
              "        vertical-align: middle;\n",
              "    }\n",
              "\n",
              "    .dataframe tbody tr th {\n",
              "        vertical-align: top;\n",
              "    }\n",
              "\n",
              "    .dataframe thead th {\n",
              "        text-align: right;\n",
              "    }\n",
              "</style>\n",
              "<table border=\"1\" class=\"dataframe\">\n",
              "  <thead>\n",
              "    <tr style=\"text-align: right;\">\n",
              "      <th></th>\n",
              "      <th>experiment</th>\n",
              "      <th>accuracy_score_testing</th>\n",
              "      <th>auc_score_testing</th>\n",
              "    </tr>\n",
              "  </thead>\n",
              "  <tbody>\n",
              "    <tr>\n",
              "      <th>rf_cv</th>\n",
              "      <td>VR Baseline vs Speech</td>\n",
              "      <td>0.889785</td>\n",
              "      <td>0.890387</td>\n",
              "    </tr>\n",
              "    <tr>\n",
              "      <th>logreg_cv</th>\n",
              "      <td>VR Baseline vs Speech</td>\n",
              "      <td>0.814082</td>\n",
              "      <td>0.815215</td>\n",
              "    </tr>\n",
              "    <tr>\n",
              "      <th>knn_cv</th>\n",
              "      <td>VR Baseline vs Speech</td>\n",
              "      <td>0.849702</td>\n",
              "      <td>0.815215</td>\n",
              "    </tr>\n",
              "    <tr>\n",
              "      <th>rf_cv</th>\n",
              "      <td>VR Baseline vs VR FoodSelec</td>\n",
              "      <td>0.821538</td>\n",
              "      <td>0.822218</td>\n",
              "    </tr>\n",
              "    <tr>\n",
              "      <th>logreg_cv</th>\n",
              "      <td>VR Baseline vs VR FoodSelec</td>\n",
              "      <td>0.704615</td>\n",
              "      <td>0.706177</td>\n",
              "    </tr>\n",
              "    <tr>\n",
              "      <th>knn_cv</th>\n",
              "      <td>VR Baseline vs VR FoodSelec</td>\n",
              "      <td>0.715897</td>\n",
              "      <td>0.706177</td>\n",
              "    </tr>\n",
              "    <tr>\n",
              "      <th>rf_cv</th>\n",
              "      <td>Speech vs VR FoodSelec</td>\n",
              "      <td>0.485762</td>\n",
              "      <td>0.484462</td>\n",
              "    </tr>\n",
              "    <tr>\n",
              "      <th>logreg_cv</th>\n",
              "      <td>Speech vs VR FoodSelec</td>\n",
              "      <td>0.561538</td>\n",
              "      <td>0.559935</td>\n",
              "    </tr>\n",
              "    <tr>\n",
              "      <th>knn_cv</th>\n",
              "      <td>Speech vs VR FoodSelec</td>\n",
              "      <td>0.497976</td>\n",
              "      <td>0.559935</td>\n",
              "    </tr>\n",
              "  </tbody>\n",
              "</table>\n",
              "</div>"
            ],
            "text/plain": [
              "                            experiment  ...  auc_score_testing\n",
              "rf_cv            VR Baseline vs Speech  ...           0.890387\n",
              "logreg_cv        VR Baseline vs Speech  ...           0.815215\n",
              "knn_cv           VR Baseline vs Speech  ...           0.815215\n",
              "rf_cv      VR Baseline vs VR FoodSelec  ...           0.822218\n",
              "logreg_cv  VR Baseline vs VR FoodSelec  ...           0.706177\n",
              "knn_cv     VR Baseline vs VR FoodSelec  ...           0.706177\n",
              "rf_cv           Speech vs VR FoodSelec  ...           0.484462\n",
              "logreg_cv       Speech vs VR FoodSelec  ...           0.559935\n",
              "knn_cv          Speech vs VR FoodSelec  ...           0.559935\n",
              "\n",
              "[9 rows x 3 columns]"
            ]
          },
          "metadata": {
            "tags": []
          },
          "execution_count": 29
        }
      ]
    },
    {
      "cell_type": "code",
      "metadata": {
        "id": "XPmF0fcvuZA5"
      },
      "source": [
        "KFoldCV.to_csv(\"KFold_Phasic&Tonic.csv\", index = True)"
      ],
      "execution_count": 30,
      "outputs": []
    },
    {
      "cell_type": "code",
      "metadata": {
        "id": "a5RGEfxY6NB8",
        "colab": {
          "base_uri": "https://localhost:8080/"
        },
        "outputId": "1a44ab6c-1966-4d03-8344-ed6d946e170b"
      },
      "source": [
        "KFoldCV_Phasic_results = []\n",
        "KFoldCV_Phasic_results = Training(KFoldCV_Phasic_results,DataFrame,Phasic = True, KFold = True)"
      ],
      "execution_count": 31,
      "outputs": [
        {
          "output_type": "stream",
          "text": [
            "/usr/local/lib/python3.7/dist-packages/ipykernel_launcher.py:11: SettingWithCopyWarning: \n",
            "A value is trying to be set on a copy of a slice from a DataFrame.\n",
            "Try using .loc[row_indexer,col_indexer] = value instead\n",
            "\n",
            "See the caveats in the documentation: https://pandas.pydata.org/pandas-docs/stable/user_guide/indexing.html#returning-a-view-versus-a-copy\n",
            "  # This is added back by InteractiveShellApp.init_path()\n",
            "/usr/local/lib/python3.7/dist-packages/ipykernel_launcher.py:13: SettingWithCopyWarning: \n",
            "A value is trying to be set on a copy of a slice from a DataFrame.\n",
            "Try using .loc[row_indexer,col_indexer] = value instead\n",
            "\n",
            "See the caveats in the documentation: https://pandas.pydata.org/pandas-docs/stable/user_guide/indexing.html#returning-a-view-versus-a-copy\n",
            "  del sys.path[0]\n",
            "/usr/local/lib/python3.7/dist-packages/ipykernel_launcher.py:15: SettingWithCopyWarning: \n",
            "A value is trying to be set on a copy of a slice from a DataFrame.\n",
            "Try using .loc[row_indexer,col_indexer] = value instead\n",
            "\n",
            "See the caveats in the documentation: https://pandas.pydata.org/pandas-docs/stable/user_guide/indexing.html#returning-a-view-versus-a-copy\n",
            "  from ipykernel import kernelapp as app\n"
          ],
          "name": "stderr"
        }
      ]
    },
    {
      "cell_type": "code",
      "metadata": {
        "colab": {
          "base_uri": "https://localhost:8080/"
        },
        "id": "YzvpcDGYZTmh",
        "outputId": "f2448679-d57b-4086-92f8-d3f4ed32866d"
      },
      "source": [
        "KFoldCV_Phasic_results"
      ],
      "execution_count": null,
      "outputs": [
        {
          "output_type": "execute_result",
          "data": {
            "text/plain": [
              "[{'accuracy_score_testing': {'knn_cv': 0.6177408177408176,\n",
              "   'logreg_cv': 0.6548163548163548,\n",
              "   'rf_cv': 0.6784476784476786},\n",
              "  'auc_score_testing': {'knn_cv': 0.6544479702374439,\n",
              "   'logreg_cv': 0.6544479702374439,\n",
              "   'rf_cv': 0.6784385600175076},\n",
              "  'experiment': 'VR Baseline vs Speech'},\n",
              " {'accuracy_score_testing': {'knn_cv': 0.6112820512820514,\n",
              "   'logreg_cv': 0.6451282051282051,\n",
              "   'rf_cv': 0.643076923076923},\n",
              "  'auc_score_testing': {'knn_cv': 0.6455848561111719,\n",
              "   'logreg_cv': 0.6455848561111719,\n",
              "   'rf_cv': 0.642493708283182},\n",
              "  'experiment': 'VR Baseline vs VR FoodSelec'},\n",
              " {'accuracy_score_testing': {'knn_cv': 0.5052901484480432,\n",
              "   'logreg_cv': 0.4939271255060728,\n",
              "   'rf_cv': 0.4918353576248313},\n",
              "  'auc_score_testing': {'knn_cv': 0.4937629937629938,\n",
              "   'logreg_cv': 0.4937629937629938,\n",
              "   'rf_cv': 0.49160192581245216},\n",
              "  'experiment': 'Speech vs VR FoodSelec'}]"
            ]
          },
          "metadata": {
            "tags": []
          },
          "execution_count": 49
        }
      ]
    },
    {
      "cell_type": "code",
      "metadata": {
        "id": "p8ZwhvHvro3f"
      },
      "source": [
        "KFoldCV_Phasic = pd.DataFrame()\n",
        "for index in KFoldCV_Phasic_results:\n",
        "  df = pd.DataFrame(index)\n",
        "  KFoldCV_Phasic = KFoldCV_Phasic.append(df)"
      ],
      "execution_count": 32,
      "outputs": []
    },
    {
      "cell_type": "code",
      "metadata": {
        "id": "VAa3ZnH1tR2d"
      },
      "source": [
        "KFoldCV_Phasic.to_csv(\"KFold_Phasic.csv\", index = True)"
      ],
      "execution_count": 33,
      "outputs": []
    },
    {
      "cell_type": "code",
      "metadata": {
        "id": "ciELokuCDX2G",
        "colab": {
          "base_uri": "https://localhost:8080/"
        },
        "outputId": "9f05b958-e600-492a-ffcc-48ab9e422e6c"
      },
      "source": [
        "LOGO_results = []\n",
        "LOGO_results = Training(LOGO_results,DataFrame,Phasic = False, KFold = False)"
      ],
      "execution_count": 34,
      "outputs": [
        {
          "output_type": "stream",
          "text": [
            "/usr/local/lib/python3.7/dist-packages/ipykernel_launcher.py:11: SettingWithCopyWarning: \n",
            "A value is trying to be set on a copy of a slice from a DataFrame.\n",
            "Try using .loc[row_indexer,col_indexer] = value instead\n",
            "\n",
            "See the caveats in the documentation: https://pandas.pydata.org/pandas-docs/stable/user_guide/indexing.html#returning-a-view-versus-a-copy\n",
            "  # This is added back by InteractiveShellApp.init_path()\n",
            "/usr/local/lib/python3.7/dist-packages/ipykernel_launcher.py:13: SettingWithCopyWarning: \n",
            "A value is trying to be set on a copy of a slice from a DataFrame.\n",
            "Try using .loc[row_indexer,col_indexer] = value instead\n",
            "\n",
            "See the caveats in the documentation: https://pandas.pydata.org/pandas-docs/stable/user_guide/indexing.html#returning-a-view-versus-a-copy\n",
            "  del sys.path[0]\n",
            "/usr/local/lib/python3.7/dist-packages/ipykernel_launcher.py:15: SettingWithCopyWarning: \n",
            "A value is trying to be set on a copy of a slice from a DataFrame.\n",
            "Try using .loc[row_indexer,col_indexer] = value instead\n",
            "\n",
            "See the caveats in the documentation: https://pandas.pydata.org/pandas-docs/stable/user_guide/indexing.html#returning-a-view-versus-a-copy\n",
            "  from ipykernel import kernelapp as app\n"
          ],
          "name": "stderr"
        }
      ]
    },
    {
      "cell_type": "code",
      "metadata": {
        "colab": {
          "base_uri": "https://localhost:8080/"
        },
        "id": "Vp0lPxMIQNZi",
        "outputId": "a58ed515-c0f3-406f-e538-15d41a20b0f4"
      },
      "source": [
        "LOGO_results"
      ],
      "execution_count": 35,
      "outputs": [
        {
          "output_type": "execute_result",
          "data": {
            "text/plain": [
              "[{'Subject_ID': {'1056': {'accuracy_knn': 0.972972972972973,\n",
              "    'accuracy_logreg': 1.0,\n",
              "    'accuracy_rf': 0.918918918918919,\n",
              "    'auc_knn': 0.972972972972973,\n",
              "    'auc_logreg': 1.0,\n",
              "    'auc_rf': 0.9189189189189189},\n",
              "   '1058': {'accuracy_knn': 1.0,\n",
              "    'accuracy_logreg': 0.958904109589041,\n",
              "    'accuracy_rf': 1.0,\n",
              "    'auc_knn': 1.0,\n",
              "    'auc_logreg': 0.9594594594594594,\n",
              "    'auc_rf': 1.0},\n",
              "   '793': {'accuracy_knn': 0.7972972972972973,\n",
              "    'accuracy_logreg': 0.7162162162162162,\n",
              "    'accuracy_rf': 0.7567567567567568,\n",
              "    'auc_knn': 0.7972972972972974,\n",
              "    'auc_logreg': 0.7162162162162162,\n",
              "    'auc_rf': 0.7567567567567568},\n",
              "   '820': {'accuracy_knn': 0.7083333333333334,\n",
              "    'accuracy_logreg': 0.8194444444444444,\n",
              "    'accuracy_rf': 0.5833333333333334,\n",
              "    'auc_knn': 0.7023166023166023,\n",
              "    'auc_logreg': 0.8243243243243243,\n",
              "    'auc_rf': 0.5714285714285714},\n",
              "   '877': {'accuracy_knn': 0.9733333333333334,\n",
              "    'accuracy_logreg': 0.9333333333333333,\n",
              "    'accuracy_rf': 0.96,\n",
              "    'auc_knn': 0.972972972972973,\n",
              "    'auc_logreg': 0.9324324324324325,\n",
              "    'auc_rf': 0.9594594594594594},\n",
              "   '937': {'accuracy_knn': 0.9315068493150684,\n",
              "    'accuracy_logreg': 0.6712328767123288,\n",
              "    'accuracy_rf': 1.0,\n",
              "    'auc_knn': 0.9324324324324325,\n",
              "    'auc_logreg': 0.6756756756756757,\n",
              "    'auc_rf': 1.0},\n",
              "   '942': {'accuracy_knn': 1.0,\n",
              "    'accuracy_logreg': 0.9736842105263158,\n",
              "    'accuracy_rf': 1.0,\n",
              "    'auc_knn': 1.0,\n",
              "    'auc_logreg': 0.9743589743589743,\n",
              "    'auc_rf': 1.0},\n",
              "   '946': {'accuracy_knn': 0.972972972972973,\n",
              "    'accuracy_logreg': 0.9324324324324325,\n",
              "    'accuracy_rf': 0.9594594594594594,\n",
              "    'auc_knn': 0.972972972972973,\n",
              "    'auc_logreg': 0.9324324324324325,\n",
              "    'auc_rf': 0.9594594594594594},\n",
              "   '961': {'accuracy_knn': 0.9866666666666667,\n",
              "    'accuracy_logreg': 0.7466666666666667,\n",
              "    'accuracy_rf': 0.9866666666666667,\n",
              "    'auc_knn': 0.986842105263158,\n",
              "    'auc_logreg': 0.75,\n",
              "    'auc_rf': 0.986842105263158},\n",
              "   '962': {'accuracy_knn': 0.9726027397260274,\n",
              "    'accuracy_logreg': 0.8082191780821918,\n",
              "    'accuracy_rf': 1.0,\n",
              "    'auc_knn': 0.9725975975975976,\n",
              "    'auc_logreg': 0.8108108108108107,\n",
              "    'auc_rf': 1.0},\n",
              "   '963': {'accuracy_knn': 0.5,\n",
              "    'accuracy_logreg': 0.5,\n",
              "    'accuracy_rf': 0.5,\n",
              "    'auc_knn': 0.5,\n",
              "    'auc_logreg': 0.5,\n",
              "    'auc_rf': 0.5},\n",
              "   '966': {'accuracy_knn': 0.6309523809523809,\n",
              "    'accuracy_logreg': 0.9761904761904762,\n",
              "    'accuracy_rf': 0.5595238095238095,\n",
              "    'auc_knn': 0.6561784897025171,\n",
              "    'auc_logreg': 0.9782608695652174,\n",
              "    'auc_rf': 0.5795194508009154},\n",
              "   '984': {'accuracy_knn': 0.5,\n",
              "    'accuracy_logreg': 0.5,\n",
              "    'accuracy_rf': 0.5,\n",
              "    'auc_knn': 0.5,\n",
              "    'auc_logreg': 0.5,\n",
              "    'auc_rf': 0.5}},\n",
              "  'accuracy_score_testing': {'knn_cv': 0.8420491189669274,\n",
              "   'logreg_cv': 0.8104864572456497,\n",
              "   'rf_cv': 0.824973764973765},\n",
              "  'auc_score_testing': {'knn_cv': 0.8435833418098865,\n",
              "   'logreg_cv': 0.8118439380981186,\n",
              "   'rf_cv': 0.8255680555451723},\n",
              "  'experiment': 'VR Baseline vs Speech'},\n",
              " {'Subject_ID': {'1056': {'accuracy_knn': 0.926829268292683,\n",
              "    'accuracy_logreg': 0.975609756097561,\n",
              "    'accuracy_rf': 0.9512195121951219,\n",
              "    'auc_knn': 0.9189189189189189,\n",
              "    'auc_logreg': 0.972972972972973,\n",
              "    'auc_rf': 0.9459459459459459},\n",
              "   '1058': {'accuracy_knn': 0.9841269841269841,\n",
              "    'accuracy_logreg': 0.8095238095238095,\n",
              "    'accuracy_rf': 1.0,\n",
              "    'auc_knn': 0.9864864864864865,\n",
              "    'auc_logreg': 0.8378378378378378,\n",
              "    'auc_rf': 1.0},\n",
              "   '793': {'accuracy_knn': 0.8309859154929577,\n",
              "    'accuracy_logreg': 0.647887323943662,\n",
              "    'accuracy_rf': 0.7464788732394366,\n",
              "    'auc_knn': 0.8378378378378378,\n",
              "    'auc_logreg': 0.6621621621621622,\n",
              "    'auc_rf': 0.7567567567567568},\n",
              "   '820': {'accuracy_knn': 0.7710843373493976,\n",
              "    'accuracy_logreg': 0.8072289156626506,\n",
              "    'accuracy_rf': 0.963855421686747,\n",
              "    'auc_knn': 0.7432432432432432,\n",
              "    'auc_logreg': 0.7837837837837838,\n",
              "    'auc_rf': 0.9594594594594594},\n",
              "   '877': {'accuracy_knn': 0.9452054794520548,\n",
              "    'accuracy_logreg': 0.9041095890410958,\n",
              "    'accuracy_rf': 0.9726027397260274,\n",
              "    'auc_knn': 0.9455705705705706,\n",
              "    'auc_logreg': 0.9054054054054055,\n",
              "    'auc_rf': 0.972972972972973},\n",
              "   '937': {'accuracy_knn': 0.7105263157894737,\n",
              "    'accuracy_logreg': 0.2631578947368421,\n",
              "    'accuracy_rf': 0.7894736842105263,\n",
              "    'auc_knn': 0.8513513513513513,\n",
              "    'auc_logreg': 0.6216216216216216,\n",
              "    'auc_rf': 0.8918918918918919},\n",
              "   '942': {'accuracy_knn': 0.9864864864864865,\n",
              "    'accuracy_logreg': 0.8918918918918919,\n",
              "    'accuracy_rf': 1.0,\n",
              "    'auc_knn': 0.9857142857142857,\n",
              "    'auc_logreg': 0.8901098901098902,\n",
              "    'auc_rf': 1.0},\n",
              "   '946': {'accuracy_knn': 0.6351351351351351,\n",
              "    'accuracy_logreg': 0.8108108108108109,\n",
              "    'accuracy_rf': 0.6621621621621622,\n",
              "    'auc_knn': 0.6351351351351351,\n",
              "    'auc_logreg': 0.8108108108108109,\n",
              "    'auc_rf': 0.6621621621621622},\n",
              "   '961': {'accuracy_knn': 0.8518518518518519,\n",
              "    'accuracy_logreg': 0.691358024691358,\n",
              "    'accuracy_rf': 0.9012345679012346,\n",
              "    'auc_knn': 0.855875152998776,\n",
              "    'auc_logreg': 0.6725826193390453,\n",
              "    'auc_rf': 0.9008567931456549},\n",
              "   '962': {'accuracy_knn': 0.7777777777777778,\n",
              "    'accuracy_logreg': 0.6666666666666666,\n",
              "    'accuracy_rf': 0.873015873015873,\n",
              "    'auc_knn': 0.7364864864864865,\n",
              "    'auc_logreg': 0.6933471933471933,\n",
              "    'auc_rf': 0.851871101871102},\n",
              "   '963': {'accuracy_knn': 0.5384615384615384,\n",
              "    'accuracy_logreg': 0.5846153846153846,\n",
              "    'accuracy_rf': 0.5538461538461539,\n",
              "    'auc_knn': 0.49034749034749037,\n",
              "    'auc_logreg': 0.5222007722007722,\n",
              "    'auc_rf': 0.4995173745173745},\n",
              "   '966': {'accuracy_knn': 0.304,\n",
              "    'accuracy_logreg': 0.376,\n",
              "    'accuracy_rf': 0.312,\n",
              "    'auc_knn': 0.5,\n",
              "    'auc_logreg': 0.5517241379310345,\n",
              "    'auc_rf': 0.5057471264367817},\n",
              "   '984': {'accuracy_knn': 0.4457831325301205,\n",
              "    'accuracy_logreg': 0.4578313253012048,\n",
              "    'accuracy_rf': 0.43373493975903615,\n",
              "    'auc_knn': 0.47046783625731,\n",
              "    'auc_logreg': 0.5,\n",
              "    'auc_rf': 0.4675438596491228}},\n",
              "  'accuracy_score_testing': {'knn_cv': 0.7467887863651124,\n",
              "   'logreg_cv': 0.6835916456140723,\n",
              "   'rf_cv': 0.7815095329032553},\n",
              "  'auc_score_testing': {'knn_cv': 0.7659565227190686,\n",
              "   'logreg_cv': 0.7249660928863485,\n",
              "   'rf_cv': 0.8011327265237865},\n",
              "  'experiment': 'VR Baseline vs VR FoodSelec'},\n",
              " {'Subject_ID': {'1056': {'accuracy_knn': 0.5609756097560976,\n",
              "    'accuracy_logreg': 0.4878048780487805,\n",
              "    'accuracy_rf': 0.4878048780487805,\n",
              "    'auc_knn': 0.575975975975976,\n",
              "    'auc_logreg': 0.530930930930931,\n",
              "    'auc_rf': 0.4948948948948949},\n",
              "   '1058': {'accuracy_knn': 0.5161290322580645,\n",
              "    'accuracy_logreg': 0.5645161290322581,\n",
              "    'accuracy_rf': 0.41935483870967744,\n",
              "    'auc_knn': 0.5192307692307693,\n",
              "    'auc_logreg': 0.5021367521367521,\n",
              "    'auc_rf': 0.39316239316239315},\n",
              "   '793': {'accuracy_knn': 0.5352112676056338,\n",
              "    'accuracy_logreg': 0.5211267605633803,\n",
              "    'accuracy_rf': 0.5352112676056338,\n",
              "    'auc_knn': 0.5230524642289349,\n",
              "    'auc_logreg': 0.5,\n",
              "    'auc_rf': 0.5254372019077902},\n",
              "   '820': {'accuracy_knn': 0.1728395061728395,\n",
              "    'accuracy_logreg': 0.4074074074074074,\n",
              "    'accuracy_rf': 0.012345679012345678,\n",
              "    'auc_knn': 0.16242236024844717,\n",
              "    'auc_logreg': 0.4714285714285714,\n",
              "    'auc_rf': 0.010869565217391297},\n",
              "   '877': {'accuracy_knn': 0.4864864864864865,\n",
              "    'accuracy_logreg': 0.5135135135135135,\n",
              "    'accuracy_rf': 0.3918918918918919,\n",
              "    'auc_knn': 0.4824561403508772,\n",
              "    'auc_logreg': 0.5,\n",
              "    'auc_rf': 0.39035087719298245},\n",
              "   '937': {'accuracy_knn': 0.6216216216216216,\n",
              "    'accuracy_logreg': 0.6486486486486487,\n",
              "    'accuracy_rf': 0.7567567567567568,\n",
              "    'auc_knn': 0.3194444444444444,\n",
              "    'auc_logreg': 0.3333333333333333,\n",
              "    'auc_rf': 0.3888888888888889},\n",
              "   '942': {'accuracy_knn': 0.6111111111111112,\n",
              "    'accuracy_logreg': 0.6944444444444444,\n",
              "    'accuracy_rf': 0.5694444444444444,\n",
              "    'auc_knn': 0.6084942084942084,\n",
              "    'auc_logreg': 0.6857142857142857,\n",
              "    'auc_rf': 0.5679536679536679},\n",
              "   '946': {'accuracy_knn': 0.4864864864864865,\n",
              "    'accuracy_logreg': 0.4864864864864865,\n",
              "    'accuracy_rf': 0.5405405405405406,\n",
              "    'auc_knn': 0.4864864864864865,\n",
              "    'auc_logreg': 0.48648648648648646,\n",
              "    'auc_rf': 0.5405405405405406},\n",
              "   '961': {'accuracy_knn': 0.6625,\n",
              "    'accuracy_logreg': 0.525,\n",
              "    'accuracy_rf': 0.4625,\n",
              "    'auc_knn': 0.6709616593337523,\n",
              "    'auc_logreg': 0.5543683218101823,\n",
              "    'auc_rf': 0.4547454431175361},\n",
              "   '962': {'accuracy_knn': 0.5645161290322581,\n",
              "    'accuracy_logreg': 0.7741935483870968,\n",
              "    'accuracy_rf': 0.6774193548387096,\n",
              "    'auc_knn': 0.5555555555555556,\n",
              "    'auc_logreg': 0.7521367521367521,\n",
              "    'auc_rf': 0.7115384615384616},\n",
              "   '963': {'accuracy_knn': 0.4307692307692308,\n",
              "    'accuracy_logreg': 0.4307692307692308,\n",
              "    'accuracy_rf': 0.4307692307692308,\n",
              "    'auc_knn': 0.5,\n",
              "    'auc_logreg': 0.5,\n",
              "    'auc_rf': 0.5},\n",
              "   '966': {'accuracy_knn': 0.2556390977443609,\n",
              "    'accuracy_logreg': 0.6090225563909775,\n",
              "    'accuracy_rf': 0.20300751879699247,\n",
              "    'auc_knn': 0.3029735132433783,\n",
              "    'auc_logreg': 0.5372313843078461,\n",
              "    'auc_rf': 0.2166416791604198},\n",
              "   '984': {'accuracy_knn': 0.5421686746987951,\n",
              "    'accuracy_logreg': 0.5421686746987951,\n",
              "    'accuracy_rf': 0.5421686746987951,\n",
              "    'auc_knn': 0.5,\n",
              "    'auc_logreg': 0.5,\n",
              "    'auc_rf': 0.5}},\n",
              "  'accuracy_score_testing': {'knn_cv': 0.4958810964417681,\n",
              "   'logreg_cv': 0.5542386367993092,\n",
              "   'rf_cv': 0.46378577508567675},\n",
              "  'auc_score_testing': {'knn_cv': 0.4774656598148331,\n",
              "   'logreg_cv': 0.5272128321757801,\n",
              "   'rf_cv': 0.4380787395057667},\n",
              "  'experiment': 'Speech vs VR FoodSelec'}]"
            ]
          },
          "metadata": {
            "tags": []
          },
          "execution_count": 35
        }
      ]
    },
    {
      "cell_type": "code",
      "metadata": {
        "id": "YksAihR5uwlU"
      },
      "source": [
        "LOGO = pd.DataFrame()\n",
        "for index in LOGO_results:\n",
        "  df = pd.DataFrame(index)\n",
        "  LOGO = LOGO.append(df)"
      ],
      "execution_count": 36,
      "outputs": []
    },
    {
      "cell_type": "code",
      "metadata": {
        "id": "FjkjQB1140ON"
      },
      "source": [
        "list_index = LOGO.index\n",
        "indices = []\n",
        "for index in range(0,len(list_index)):\n",
        "  try:\n",
        "    element = ast.literal_eval(list_index[index])\n",
        "  except ValueError:\n",
        "    indices.append(list_index[index])"
      ],
      "execution_count": 37,
      "outputs": []
    },
    {
      "cell_type": "code",
      "metadata": {
        "colab": {
          "base_uri": "https://localhost:8080/"
        },
        "id": "G6tuwvCW29aV",
        "outputId": "0b20a7e8-4b4c-41f9-fde8-6cd7a369c12a"
      },
      "source": [
        "indices"
      ],
      "execution_count": 38,
      "outputs": [
        {
          "output_type": "execute_result",
          "data": {
            "text/plain": [
              "['rf_cv',\n",
              " 'logreg_cv',\n",
              " 'knn_cv',\n",
              " 'rf_cv',\n",
              " 'logreg_cv',\n",
              " 'knn_cv',\n",
              " 'rf_cv',\n",
              " 'logreg_cv',\n",
              " 'knn_cv']"
            ]
          },
          "metadata": {
            "tags": []
          },
          "execution_count": 38
        }
      ]
    },
    {
      "cell_type": "code",
      "metadata": {
        "id": "NhGHUTu58-93"
      },
      "source": [
        "Mean_LOGO = pd.DataFrame(LOGO.loc[indices])\n",
        "Mean_LOGO = Mean_LOGO.drop_duplicates()\n",
        "Mean_LOGO = Mean_LOGO.drop(columns = ['Subject_ID'])\n",
        "Mean_LOGO.to_csv(\"MeanLOGO_Phasic&Tonic.csv\", index = True)"
      ],
      "execution_count": 39,
      "outputs": []
    },
    {
      "cell_type": "code",
      "metadata": {
        "id": "PhMpbGURJQMc"
      },
      "source": [
        "Subject_LOGO = LOGO.drop(indices).drop(columns = ['accuracy_score_testing','auc_score_testing'])"
      ],
      "execution_count": 40,
      "outputs": []
    },
    {
      "cell_type": "code",
      "metadata": {
        "id": "L4_4bgIOOk3c"
      },
      "source": [
        "list_=[]\n",
        "for w in range(0,len(Subject_LOGO)):\n",
        "  index = Subject_LOGO.index\n",
        "  list_.append(index[w])\n"
      ],
      "execution_count": 43,
      "outputs": []
    },
    {
      "cell_type": "code",
      "metadata": {
        "id": "iEAUzRMpLIm4"
      },
      "source": [
        "dummy_df = pd.DataFrame()\n",
        "for one in range(0,len(Subject_LOGO)):\n",
        "  Dict = Subject_LOGO['Subject_ID'][one]\n",
        "  df = pd.DataFrame(Dict,index=[list_[one]])\n",
        "  exp = Subject_LOGO['experiment'][one]\n",
        "  df['experiment'] = exp\n",
        "  dummy_df = dummy_df.append(df)\n"
      ],
      "execution_count": 44,
      "outputs": []
    },
    {
      "cell_type": "code",
      "metadata": {
        "id": "5NlHQST8iDKZ"
      },
      "source": [
        "dummy_df.to_csv(\"LOGO_Phasic&Tonic.csv\", index = True)"
      ],
      "execution_count": 46,
      "outputs": []
    },
    {
      "cell_type": "code",
      "metadata": {
        "id": "LAHVMV1FZX9t",
        "colab": {
          "base_uri": "https://localhost:8080/"
        },
        "outputId": "08a39cc3-af95-4c1a-84de-b8cb3a5a7367"
      },
      "source": [
        "LOGO_phasic_results = []\n",
        "LOGO_phasic_results = Training(LOGO_phasic_results,DataFrame,Phasic = True, KFold = False)"
      ],
      "execution_count": 47,
      "outputs": [
        {
          "output_type": "stream",
          "text": [
            "/usr/local/lib/python3.7/dist-packages/ipykernel_launcher.py:11: SettingWithCopyWarning: \n",
            "A value is trying to be set on a copy of a slice from a DataFrame.\n",
            "Try using .loc[row_indexer,col_indexer] = value instead\n",
            "\n",
            "See the caveats in the documentation: https://pandas.pydata.org/pandas-docs/stable/user_guide/indexing.html#returning-a-view-versus-a-copy\n",
            "  # This is added back by InteractiveShellApp.init_path()\n",
            "/usr/local/lib/python3.7/dist-packages/ipykernel_launcher.py:13: SettingWithCopyWarning: \n",
            "A value is trying to be set on a copy of a slice from a DataFrame.\n",
            "Try using .loc[row_indexer,col_indexer] = value instead\n",
            "\n",
            "See the caveats in the documentation: https://pandas.pydata.org/pandas-docs/stable/user_guide/indexing.html#returning-a-view-versus-a-copy\n",
            "  del sys.path[0]\n",
            "/usr/local/lib/python3.7/dist-packages/ipykernel_launcher.py:15: SettingWithCopyWarning: \n",
            "A value is trying to be set on a copy of a slice from a DataFrame.\n",
            "Try using .loc[row_indexer,col_indexer] = value instead\n",
            "\n",
            "See the caveats in the documentation: https://pandas.pydata.org/pandas-docs/stable/user_guide/indexing.html#returning-a-view-versus-a-copy\n",
            "  from ipykernel import kernelapp as app\n"
          ],
          "name": "stderr"
        }
      ]
    },
    {
      "cell_type": "code",
      "metadata": {
        "colab": {
          "base_uri": "https://localhost:8080/"
        },
        "id": "okF8YNbHZxRu",
        "outputId": "a70f5070-0aa4-4a7f-be9b-8817fb01e203"
      },
      "source": [
        "LOGO_phasic_results"
      ],
      "execution_count": 48,
      "outputs": [
        {
          "output_type": "execute_result",
          "data": {
            "text/plain": [
              "[{'Subject_ID': {'1056': {'accuracy_knn': 0.7162162162162162,\n",
              "    'accuracy_logreg': 0.7567567567567568,\n",
              "    'accuracy_rf': 0.7702702702702703,\n",
              "    'auc_knn': 0.716216216216216,\n",
              "    'auc_logreg': 0.7567567567567567,\n",
              "    'auc_rf': 0.7702702702702703},\n",
              "   '1058': {'accuracy_knn': 0.5616438356164384,\n",
              "    'accuracy_logreg': 0.5753424657534246,\n",
              "    'accuracy_rf': 0.589041095890411,\n",
              "    'auc_knn': 0.56006006006006,\n",
              "    'auc_logreg': 0.5731981981981982,\n",
              "    'auc_rf': 0.5897147147147147},\n",
              "   '793': {'accuracy_knn': 0.581081081081081,\n",
              "    'accuracy_logreg': 0.6081081081081081,\n",
              "    'accuracy_rf': 0.7162162162162162,\n",
              "    'auc_knn': 0.581081081081081,\n",
              "    'auc_logreg': 0.6081081081081081,\n",
              "    'auc_rf': 0.7162162162162162},\n",
              "   '820': {'accuracy_knn': 0.6527777777777778,\n",
              "    'accuracy_logreg': 0.7222222222222222,\n",
              "    'accuracy_rf': 0.8194444444444444,\n",
              "    'auc_knn': 0.6482625482625484,\n",
              "    'auc_logreg': 0.7166023166023165,\n",
              "    'auc_rf': 0.818918918918919},\n",
              "   '877': {'accuracy_knn': 0.5733333333333334,\n",
              "    'accuracy_logreg': 0.6,\n",
              "    'accuracy_rf': 0.8,\n",
              "    'auc_knn': 0.5757467994310099,\n",
              "    'auc_logreg': 0.6024182076813656,\n",
              "    'auc_rf': 0.8001422475106686},\n",
              "   '937': {'accuracy_knn': 0.6164383561643836,\n",
              "    'accuracy_logreg': 0.6438356164383562,\n",
              "    'accuracy_rf': 0.684931506849315,\n",
              "    'auc_knn': 0.6148648648648649,\n",
              "    'auc_logreg': 0.6418918918918919,\n",
              "    'auc_rf': 0.6843093093093093},\n",
              "   '942': {'accuracy_knn': 0.631578947368421,\n",
              "    'accuracy_logreg': 0.631578947368421,\n",
              "    'accuracy_rf': 0.5921052631578947,\n",
              "    'auc_knn': 0.6250866250866252,\n",
              "    'auc_logreg': 0.6223146223146223,\n",
              "    'auc_rf': 0.5838530838530838},\n",
              "   '946': {'accuracy_knn': 0.6486486486486487,\n",
              "    'accuracy_logreg': 0.7162162162162162,\n",
              "    'accuracy_rf': 0.6621621621621622,\n",
              "    'auc_knn': 0.6486486486486487,\n",
              "    'auc_logreg': 0.7162162162162162,\n",
              "    'auc_rf': 0.6621621621621622},\n",
              "   '961': {'accuracy_knn': 0.56,\n",
              "    'accuracy_logreg': 0.72,\n",
              "    'accuracy_rf': 0.6933333333333334,\n",
              "    'auc_knn': 0.5615220483641536,\n",
              "    'auc_logreg': 0.7219061166429588,\n",
              "    'auc_rf': 0.6959459459459458},\n",
              "   '962': {'accuracy_knn': 0.6164383561643836,\n",
              "    'accuracy_logreg': 0.6027397260273972,\n",
              "    'accuracy_rf': 0.7123287671232876,\n",
              "    'auc_knn': 0.6163663663663663,\n",
              "    'auc_logreg': 0.602852852852853,\n",
              "    'auc_rf': 0.7139639639639641},\n",
              "   '963': {'accuracy_knn': 0.5675675675675675,\n",
              "    'accuracy_logreg': 0.581081081081081,\n",
              "    'accuracy_rf': 0.527027027027027,\n",
              "    'auc_knn': 0.5675675675675675,\n",
              "    'auc_logreg': 0.5810810810810811,\n",
              "    'auc_rf': 0.527027027027027},\n",
              "   '966': {'accuracy_knn': 0.6666666666666666,\n",
              "    'accuracy_logreg': 0.7857142857142857,\n",
              "    'accuracy_rf': 0.7142857142857143,\n",
              "    'auc_knn': 0.6498855835240274,\n",
              "    'auc_logreg': 0.765446224256293,\n",
              "    'auc_rf': 0.7025171624713958},\n",
              "   '984': {'accuracy_knn': 0.5921052631578947,\n",
              "    'accuracy_logreg': 0.5394736842105263,\n",
              "    'accuracy_rf': 0.5526315789473685,\n",
              "    'auc_knn': 0.5921052631578948,\n",
              "    'auc_logreg': 0.5394736842105263,\n",
              "    'auc_rf': 0.5526315789473684}},\n",
              "  'accuracy_score_testing': {'knn_cv': 0.6141920038279086,\n",
              "   'logreg_cv': 0.6525437776843689,\n",
              "   'rf_cv': 0.6795213369005726},\n",
              "  'auc_score_testing': {'knn_cv': 0.6121087440485433,\n",
              "   'logreg_cv': 0.6498666366779375,\n",
              "   'rf_cv': 0.6782825077931574},\n",
              "  'experiment': 'VR Baseline vs Speech'},\n",
              " {'Subject_ID': {'1056': {'accuracy_knn': 0.6951219512195121,\n",
              "    'accuracy_logreg': 0.7804878048780488,\n",
              "    'accuracy_rf': 0.7560975609756098,\n",
              "    'auc_knn': 0.6837837837837838,\n",
              "    'auc_logreg': 0.7735735735735736,\n",
              "    'auc_rf': 0.7393393393393393},\n",
              "   '1058': {'accuracy_knn': 0.6825396825396826,\n",
              "    'accuracy_logreg': 0.6984126984126984,\n",
              "    'accuracy_rf': 0.6666666666666666,\n",
              "    'auc_knn': 0.6897089397089398,\n",
              "    'auc_logreg': 0.6975051975051975,\n",
              "    'auc_rf': 0.6704781704781705},\n",
              "   '793': {'accuracy_knn': 0.5352112676056338,\n",
              "    'accuracy_logreg': 0.5774647887323944,\n",
              "    'accuracy_rf': 0.6197183098591549,\n",
              "    'auc_knn': 0.5385532591414944,\n",
              "    'auc_logreg': 0.5814785373608903,\n",
              "    'auc_rf': 0.622019077901431},\n",
              "   '820': {'accuracy_knn': 0.5180722891566265,\n",
              "    'accuracy_logreg': 0.7228915662650602,\n",
              "    'accuracy_rf': 0.7951807228915663,\n",
              "    'auc_knn': 0.5361339600470035,\n",
              "    'auc_logreg': 0.7447121034077556,\n",
              "    'auc_rf': 0.804641598119859},\n",
              "   '877': {'accuracy_knn': 0.7123287671232876,\n",
              "    'accuracy_logreg': 0.6986301369863014,\n",
              "    'accuracy_rf': 0.7397260273972602,\n",
              "    'auc_knn': 0.7117117117117118,\n",
              "    'auc_logreg': 0.6978228228228228,\n",
              "    'auc_rf': 0.738738738738739},\n",
              "   '937': {'accuracy_knn': 0.6052631578947368,\n",
              "    'accuracy_logreg': 0.7894736842105263,\n",
              "    'accuracy_rf': 0.6052631578947368,\n",
              "    'auc_knn': 0.3108108108108108,\n",
              "    'auc_logreg': 0.8918918918918919,\n",
              "    'auc_rf': 0.3108108108108108},\n",
              "   '942': {'accuracy_knn': 0.5945945945945946,\n",
              "    'accuracy_logreg': 0.6351351351351351,\n",
              "    'accuracy_rf': 0.581081081081081,\n",
              "    'auc_knn': 0.5772893772893772,\n",
              "    'auc_logreg': 0.6157509157509158,\n",
              "    'auc_rf': 0.5615384615384615},\n",
              "   '946': {'accuracy_knn': 0.5675675675675675,\n",
              "    'accuracy_logreg': 0.5405405405405406,\n",
              "    'accuracy_rf': 0.5540540540540541,\n",
              "    'auc_knn': 0.5675675675675675,\n",
              "    'auc_logreg': 0.5405405405405405,\n",
              "    'auc_rf': 0.5540540540540541},\n",
              "   '961': {'accuracy_knn': 0.691358024691358,\n",
              "    'accuracy_logreg': 0.691358024691358,\n",
              "    'accuracy_rf': 0.6049382716049383,\n",
              "    'auc_knn': 0.6909424724602203,\n",
              "    'auc_logreg': 0.6878824969400245,\n",
              "    'auc_rf': 0.6003671970624235},\n",
              "   '962': {'accuracy_knn': 0.5396825396825397,\n",
              "    'accuracy_logreg': 0.4603174603174603,\n",
              "    'accuracy_rf': 0.5714285714285714,\n",
              "    'auc_knn': 0.5223492723492723,\n",
              "    'auc_logreg': 0.44334719334719336,\n",
              "    'auc_rf': 0.5836798336798337},\n",
              "   '963': {'accuracy_knn': 0.6,\n",
              "    'accuracy_logreg': 0.6307692307692307,\n",
              "    'accuracy_rf': 0.5384615384615384,\n",
              "    'auc_knn': 0.5791505791505791,\n",
              "    'auc_logreg': 0.5931467181467182,\n",
              "    'auc_rf': 0.5207528957528957},\n",
              "   '966': {'accuracy_knn': 0.608,\n",
              "    'accuracy_logreg': 0.608,\n",
              "    'accuracy_rf': 0.704,\n",
              "    'auc_knn': 0.5998185117967332,\n",
              "    'auc_logreg': 0.6442831215970962,\n",
              "    'auc_rf': 0.6836055656382335},\n",
              "   '984': {'accuracy_knn': 0.4819277108433735,\n",
              "    'accuracy_logreg': 0.46987951807228917,\n",
              "    'accuracy_rf': 0.4457831325301205,\n",
              "    'auc_knn': 0.5140350877192983,\n",
              "    'auc_logreg': 0.5090643274853801,\n",
              "    'auc_rf': 0.4847953216374269}},\n",
              "  'accuracy_score_testing': {'knn_cv': 0.6024359656091471,\n",
              "   'logreg_cv': 0.6387200453085418,\n",
              "   'rf_cv': 0.6294153149880999},\n",
              "  'auc_score_testing': {'knn_cv': 0.5786042564259071,\n",
              "   'logreg_cv': 0.6477691877207692,\n",
              "   'rf_cv': 0.6057554665193599},\n",
              "  'experiment': 'VR Baseline vs VR FoodSelec'},\n",
              " {'Subject_ID': {'1056': {'accuracy_knn': 0.6219512195121951,\n",
              "    'accuracy_logreg': 0.5487804878048781,\n",
              "    'accuracy_rf': 0.4634146341463415,\n",
              "    'auc_knn': 0.6171171171171173,\n",
              "    'auc_logreg': 0.5768768768768768,\n",
              "    'auc_rf': 0.4702702702702703},\n",
              "   '1058': {'accuracy_knn': 0.5483870967741935,\n",
              "    'accuracy_logreg': 0.45161290322580644,\n",
              "    'accuracy_rf': 0.532258064516129,\n",
              "    'auc_knn': 0.5416666666666667,\n",
              "    'auc_logreg': 0.45833333333333337,\n",
              "    'auc_rf': 0.5224358974358975},\n",
              "   '793': {'accuracy_knn': 0.6197183098591549,\n",
              "    'accuracy_logreg': 0.4647887323943662,\n",
              "    'accuracy_rf': 0.5211267605633803,\n",
              "    'auc_knn': 0.6136724960254372,\n",
              "    'auc_logreg': 0.4626391096979332,\n",
              "    'auc_rf': 0.517885532591415},\n",
              "   '820': {'accuracy_knn': 0.5925925925925926,\n",
              "    'accuracy_logreg': 0.5185185185185185,\n",
              "    'accuracy_rf': 0.5308641975308642,\n",
              "    'auc_knn': 0.6105590062111801,\n",
              "    'auc_logreg': 0.5419254658385093,\n",
              "    'auc_rf': 0.5391304347826087},\n",
              "   '877': {'accuracy_knn': 0.35135135135135137,\n",
              "    'accuracy_logreg': 0.43243243243243246,\n",
              "    'accuracy_rf': 0.5,\n",
              "    'auc_knn': 0.35233918128654973,\n",
              "    'auc_logreg': 0.43347953216374274,\n",
              "    'auc_rf': 0.5},\n",
              "   '937': {'accuracy_knn': 0.5675675675675675,\n",
              "    'accuracy_logreg': 0.2972972972972973,\n",
              "    'accuracy_rf': 0.5945945945945946,\n",
              "    'auc_knn': 0.2916666666666667,\n",
              "    'auc_logreg': 0.1527777777777778,\n",
              "    'auc_rf': 0.3055555555555556},\n",
              "   '942': {'accuracy_knn': 0.3888888888888889,\n",
              "    'accuracy_logreg': 0.5972222222222222,\n",
              "    'accuracy_rf': 0.4583333333333333,\n",
              "    'auc_knn': 0.38764478764478766,\n",
              "    'auc_logreg': 0.6003861003861003,\n",
              "    'auc_rf': 0.46138996138996136},\n",
              "   '946': {'accuracy_knn': 0.44594594594594594,\n",
              "    'accuracy_logreg': 0.43243243243243246,\n",
              "    'accuracy_rf': 0.3918918918918919,\n",
              "    'auc_knn': 0.44594594594594594,\n",
              "    'auc_logreg': 0.4324324324324324,\n",
              "    'auc_rf': 0.3918918918918919},\n",
              "   '961': {'accuracy_knn': 0.5625,\n",
              "    'accuracy_logreg': 0.5125,\n",
              "    'accuracy_rf': 0.5,\n",
              "    'auc_knn': 0.5571967316153362,\n",
              "    'auc_logreg': 0.5276555625392836,\n",
              "    'auc_rf': 0.4952859836580767},\n",
              "   '962': {'accuracy_knn': 0.5483870967741935,\n",
              "    'accuracy_logreg': 0.5483870967741935,\n",
              "    'accuracy_rf': 0.4838709677419355,\n",
              "    'auc_knn': 0.563034188034188,\n",
              "    'auc_logreg': 0.5576923076923077,\n",
              "    'auc_rf': 0.5021367521367521},\n",
              "   '963': {'accuracy_knn': 0.46153846153846156,\n",
              "    'accuracy_logreg': 0.4461538461538462,\n",
              "    'accuracy_rf': 0.4461538461538462,\n",
              "    'auc_knn': 0.4705598455598456,\n",
              "    'auc_logreg': 0.4657335907335908,\n",
              "    'auc_rf': 0.4483590733590734},\n",
              "   '966': {'accuracy_knn': 0.44360902255639095,\n",
              "    'accuracy_logreg': 0.43609022556390975,\n",
              "    'accuracy_rf': 0.48872180451127817,\n",
              "    'auc_knn': 0.456896551724138,\n",
              "    'auc_logreg': 0.41016991504247874,\n",
              "    'auc_rf': 0.4913793103448275},\n",
              "   '984': {'accuracy_knn': 0.6265060240963856,\n",
              "    'accuracy_logreg': 0.4939759036144578,\n",
              "    'accuracy_rf': 0.5662650602409639,\n",
              "    'auc_knn': 0.6064327485380118,\n",
              "    'auc_logreg': 0.46988304093567246,\n",
              "    'auc_rf': 0.5345029239766083}},\n",
              "  'accuracy_score_testing': {'knn_cv': 0.5214571982659477,\n",
              "   'logreg_cv': 0.47539939218725846,\n",
              "   'rf_cv': 0.49826885809419685},\n",
              "  'auc_score_testing': {'knn_cv': 0.5011332256181439,\n",
              "   'logreg_cv': 0.4684603881115415,\n",
              "   'rf_cv': 0.4754018144148414},\n",
              "  'experiment': 'Speech vs VR FoodSelec'}]"
            ]
          },
          "metadata": {
            "tags": []
          },
          "execution_count": 48
        }
      ]
    },
    {
      "cell_type": "code",
      "metadata": {
        "id": "yaKcZGNCZyty"
      },
      "source": [
        "LOGO_phasic = pd.DataFrame()\n",
        "for index in LOGO_phasic_results:\n",
        "  df = pd.DataFrame(index)\n",
        "  LOGO_phasic = LOGO_phasic.append(df)"
      ],
      "execution_count": 49,
      "outputs": []
    },
    {
      "cell_type": "code",
      "metadata": {
        "id": "4sfq-8L1QD4N"
      },
      "source": [
        "list_index = LOGO_phasic.index\n",
        "indices = []\n",
        "for index in range(0,len(list_index)):\n",
        "  try:\n",
        "    element = ast.literal_eval(list_index[index])\n",
        "  except ValueError:\n",
        "    indices.append(list_index[index])"
      ],
      "execution_count": 50,
      "outputs": []
    },
    {
      "cell_type": "code",
      "metadata": {
        "id": "VtRAhR8AQNnY"
      },
      "source": [
        "Mean_LOGO_phasic = pd.DataFrame(LOGO_phasic.loc[indices])\n",
        "Mean_LOGO_phasic = Mean_LOGO_phasic.drop_duplicates()\n",
        "Mean_LOGO_phasic = Mean_LOGO_phasic.drop(columns = ['Subject_ID'])\n",
        "Mean_LOGO_phasic.to_csv(\"MeanLOGO_Phasic.csv\", index = False)"
      ],
      "execution_count": 51,
      "outputs": []
    },
    {
      "cell_type": "code",
      "metadata": {
        "id": "9OmDLnuiQk1U"
      },
      "source": [
        "Subject_LOGO = LOGO_phasic.drop(indices).drop(columns = ['accuracy_score_testing','auc_score_testing'])"
      ],
      "execution_count": 52,
      "outputs": []
    },
    {
      "cell_type": "code",
      "metadata": {
        "id": "89yToSPBiola"
      },
      "source": [
        "list_=[]\n",
        "for w in range(0,len(Subject_LOGO)):\n",
        "  index = Subject_LOGO.index\n",
        "  list_.append(index[w])"
      ],
      "execution_count": 53,
      "outputs": []
    },
    {
      "cell_type": "code",
      "metadata": {
        "id": "HBF2Ppr9ir_4"
      },
      "source": [
        "dummy_df = pd.DataFrame()\n",
        "for one in range(0,len(Subject_LOGO)):\n",
        "  Dict = Subject_LOGO['Subject_ID'][one]\n",
        "  df = pd.DataFrame(Dict,index=[list_[one]])\n",
        "  exp = Subject_LOGO['experiment'][one]\n",
        "  df['experiment'] = exp\n",
        "  dummy_df = dummy_df.append(df)"
      ],
      "execution_count": 54,
      "outputs": []
    },
    {
      "cell_type": "code",
      "metadata": {
        "id": "0-BaXfiTit-a"
      },
      "source": [
        "dummy_df.to_csv(\"LOGO_Phasic.csv\", index = True)"
      ],
      "execution_count": 56,
      "outputs": []
    },
    {
      "cell_type": "code",
      "metadata": {
        "id": "6jJ2wbM9ixJ2"
      },
      "source": [
        ""
      ],
      "execution_count": null,
      "outputs": []
    }
  ]
}