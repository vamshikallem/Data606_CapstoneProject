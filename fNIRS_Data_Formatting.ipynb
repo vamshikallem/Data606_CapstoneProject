{
  "nbformat": 4,
  "nbformat_minor": 0,
  "metadata": {
    "colab": {
      "name": "fNIRS_Data_Formatting.ipynb",
      "provenance": []
    },
    "kernelspec": {
      "name": "python3",
      "display_name": "Python 3"
    }
  },
  "cells": [
    {
      "cell_type": "code",
      "metadata": {
        "colab": {
          "base_uri": "https://localhost:8080/"
        },
        "id": "OTTdAIP9BHaX",
        "outputId": "cbc56b97-35fe-4b6a-81a8-cc3febfc64c1"
      },
      "source": [
        "from google.colab import drive\r\n",
        "drive.mount('/content/gdrive/')\r\n",
        "\r\n",
        "import sys\r\n",
        "sys.path.append('/content/gdrive/My Drive/Food_VR')"
      ],
      "execution_count": 1,
      "outputs": [
        {
          "output_type": "stream",
          "text": [
            "Mounted at /content/gdrive/\n"
          ],
          "name": "stdout"
        }
      ]
    },
    {
      "cell_type": "code",
      "metadata": {
        "id": "B1MsYNgmB8o8"
      },
      "source": [
        "import pandas as pd\r\n",
        "import numpy as np\r\n",
        "import matplotlib.pyplot as plt\r\n",
        "import seaborn as sns\r\n",
        "import time \r\n",
        "import re"
      ],
      "execution_count": 2,
      "outputs": []
    },
    {
      "cell_type": "code",
      "metadata": {
        "id": "NeKp0guNJZxu"
      },
      "source": [
        "def FileName_Func(input):\r\n",
        "  index = input.find('P')\r\n",
        "  fileName = input[index:]\r\n",
        "  return fileName"
      ],
      "execution_count": 3,
      "outputs": []
    },
    {
      "cell_type": "code",
      "metadata": {
        "id": "AhukzeyjM78v"
      },
      "source": [
        "def Extract_Parameters(input):\r\n",
        "  parameters = {}\r\n",
        "  for i in range(0, 79):\r\n",
        "    if input['Oxysoft export of'][i] == 'Start of measurement':\r\n",
        "      parameters['Start of measurement'] = input[input.columns[1]][i]\r\n",
        "    else:\r\n",
        "      pass\r\n",
        "    if input['Oxysoft export of'][i] == 'Data file duration':\r\n",
        "      parameters['Data file duration'] = input[input.columns[1]][i]\r\n",
        "    else:\r\n",
        "      pass\r\n",
        "    if input['Oxysoft export of'][i] == 'Data file total number of samples':\r\n",
        "      parameters['Data file total number of samples'] = input[input.columns[1]][i]\r\n",
        "    else:\r\n",
        "      pass\r\n",
        "    if input['Oxysoft export of'][i] == 'DPF':\r\n",
        "      parameters['DPF'] = input[input.columns[1]][i]\r\n",
        "    else:\r\n",
        "      pass\r\n",
        "\r\n",
        "  return parameters\r\n"
      ],
      "execution_count": 4,
      "outputs": []
    },
    {
      "cell_type": "code",
      "metadata": {
        "id": "pB-1L7vJPgWg"
      },
      "source": [
        "def Extract_ColNames(input):\r\n",
        "  Col_Names = []\r\n",
        "  for i in range(0,79):\r\n",
        "    if input['Oxysoft export of'][i] == 'Column':\r\n",
        "      for j in range(1,35):\r\n",
        "        Col_Names.append(input[input.columns[1]][i+j])\r\n",
        "    else:\r\n",
        "      pass\r\n",
        "  return Col_Names"
      ],
      "execution_count": 5,
      "outputs": []
    },
    {
      "cell_type": "code",
      "metadata": {
        "id": "BewSUjrSQOtn"
      },
      "source": [
        "def Slicing_ColNames(input):\r\n",
        "  new_Col = []\r\n",
        "  for i in input:\r\n",
        "      i = i.replace('(', '')\r\n",
        "      i = i.replace(')','')\r\n",
        "      i = i.replace(' ', '')\r\n",
        "      i = i.replace('Participant_820','')\r\n",
        "      new_Col.append(i)\r\n",
        "  return new_Col"
      ],
      "execution_count": 6,
      "outputs": []
    },
    {
      "cell_type": "code",
      "metadata": {
        "id": "oLCgqjdYCKut"
      },
      "source": [
        "def DataFormatting_Func(path):\r\n",
        "\r\n",
        "  raw_data = pd.read_excel(path)\r\n",
        "  fileName = FileName_Func(raw_data.columns[1])\r\n",
        "  parameters  = Extract_Parameters(raw_data)\r\n",
        "  Col_Names = Extract_ColNames(raw_data)\r\n",
        "  new_Col = Slicing_ColNames(Col_Names)\r\n",
        "  del new_Col[0]\r\n",
        "  del new_Col[-1]\r\n",
        "  data = raw_data.iloc[80:,]\r\n",
        "  data = data.drop(['Oxysoft export of'], axis=1)\r\n",
        "  data = data.drop(data.iloc[:, 32:], axis = 1)\r\n",
        "  data.columns = new_Col\r\n",
        "  data.reset_index(drop=True, inplace=True)\r\n",
        "\r\n",
        "  return fileName, new_Col, data\r\n",
        "\r\n",
        "\r\n"
      ],
      "execution_count": 7,
      "outputs": []
    },
    {
      "cell_type": "code",
      "metadata": {
        "id": "uS2pYy2kUJyc"
      },
      "source": [
        "path = '/content/gdrive/My Drive/Food_VR/Data/Participant_820/PhaseB/Participant_820.xlsx'"
      ],
      "execution_count": 8,
      "outputs": []
    },
    {
      "cell_type": "code",
      "metadata": {
        "id": "EPA3mLmGT_GJ"
      },
      "source": [
        "fileName, new_Col, data = DataFormatting_Func(path)"
      ],
      "execution_count": 9,
      "outputs": []
    },
    {
      "cell_type": "code",
      "metadata": {
        "colab": {
          "base_uri": "https://localhost:8080/",
          "height": 231
        },
        "id": "rokJv0tlUbs6",
        "outputId": "486c3d17-88a5-4213-b8bf-0ac69765fc0e"
      },
      "source": [
        "data.head()"
      ],
      "execution_count": 10,
      "outputs": [
        {
          "output_type": "execute_result",
          "data": {
            "text/html": [
              "<div>\n",
              "<style scoped>\n",
              "    .dataframe tbody tr th:only-of-type {\n",
              "        vertical-align: middle;\n",
              "    }\n",
              "\n",
              "    .dataframe tbody tr th {\n",
              "        vertical-align: top;\n",
              "    }\n",
              "\n",
              "    .dataframe thead th {\n",
              "        text-align: right;\n",
              "    }\n",
              "</style>\n",
              "<table border=\"1\" class=\"dataframe\">\n",
              "  <thead>\n",
              "    <tr style=\"text-align: right;\">\n",
              "      <th></th>\n",
              "      <th>Rx1-Tx1O2Hb</th>\n",
              "      <th>Rx1-Tx1HHb</th>\n",
              "      <th>Rx1-Tx1tHb</th>\n",
              "      <th>Rx1-Tx1HbDiff</th>\n",
              "      <th>Rx1-Tx2O2Hb</th>\n",
              "      <th>Rx1-Tx2HHb</th>\n",
              "      <th>Rx1-Tx2tHb</th>\n",
              "      <th>Rx1-Tx2HbDiff</th>\n",
              "      <th>Rx1-Tx3O2Hb</th>\n",
              "      <th>Rx1-Tx3HHb</th>\n",
              "      <th>Rx1-Tx3tHb</th>\n",
              "      <th>Rx1-Tx3HbDiff</th>\n",
              "      <th>Rx1-Tx4O2Hb</th>\n",
              "      <th>Rx1-Tx4HHb</th>\n",
              "      <th>Rx1-Tx4tHb</th>\n",
              "      <th>Rx1-Tx4HbDiff</th>\n",
              "      <th>Rx2-Tx5O2Hb</th>\n",
              "      <th>Rx2-Tx5HHb</th>\n",
              "      <th>Rx2-Tx5tHb</th>\n",
              "      <th>Rx2-Tx5HbDiff</th>\n",
              "      <th>Rx2-Tx6O2Hb</th>\n",
              "      <th>Rx2-Tx6HHb</th>\n",
              "      <th>Rx2-Tx6tHb</th>\n",
              "      <th>Rx2-Tx6HbDiff</th>\n",
              "      <th>Rx2-Tx7O2Hb</th>\n",
              "      <th>Rx2-Tx7HHb</th>\n",
              "      <th>Rx2-Tx7tHb</th>\n",
              "      <th>Rx2-Tx7HbDiff</th>\n",
              "      <th>Rx2-Tx8O2Hb</th>\n",
              "      <th>Rx2-Tx8HHb</th>\n",
              "      <th>Rx2-Tx8tHb</th>\n",
              "      <th>Rx2-Tx8HbDiff</th>\n",
              "    </tr>\n",
              "  </thead>\n",
              "  <tbody>\n",
              "    <tr>\n",
              "      <th>0</th>\n",
              "      <td>83.4144</td>\n",
              "      <td>34.6383</td>\n",
              "      <td>118.053</td>\n",
              "      <td>48.7761</td>\n",
              "      <td>120.299927</td>\n",
              "      <td>63.062927</td>\n",
              "      <td>183.362854</td>\n",
              "      <td>57.23703</td>\n",
              "      <td>119.447128</td>\n",
              "      <td>56.889927</td>\n",
              "      <td>176.337158</td>\n",
              "      <td>62.557205</td>\n",
              "      <td>129.875229</td>\n",
              "      <td>67.128822</td>\n",
              "      <td>197.004059</td>\n",
              "      <td>62.746365</td>\n",
              "      <td>393.909546</td>\n",
              "      <td>214.994995</td>\n",
              "      <td>608.905334</td>\n",
              "      <td>178.915054</td>\n",
              "      <td>414.679535</td>\n",
              "      <td>212.636993</td>\n",
              "      <td>627.316345</td>\n",
              "      <td>202.042557</td>\n",
              "      <td>371.335541</td>\n",
              "      <td>77.647789</td>\n",
              "      <td>448.983337</td>\n",
              "      <td>293.688049</td>\n",
              "      <td>404.769531</td>\n",
              "      <td>208.319397</td>\n",
              "      <td>613.089356</td>\n",
              "      <td>196.450058</td>\n",
              "    </tr>\n",
              "    <tr>\n",
              "      <th>1</th>\n",
              "      <td>83.4144</td>\n",
              "      <td>34.6383</td>\n",
              "      <td>118.053</td>\n",
              "      <td>48.7761</td>\n",
              "      <td>120.299927</td>\n",
              "      <td>63.062927</td>\n",
              "      <td>183.362854</td>\n",
              "      <td>57.23703</td>\n",
              "      <td>119.447128</td>\n",
              "      <td>56.889927</td>\n",
              "      <td>176.337158</td>\n",
              "      <td>62.557205</td>\n",
              "      <td>129.875229</td>\n",
              "      <td>67.128822</td>\n",
              "      <td>197.004059</td>\n",
              "      <td>62.746365</td>\n",
              "      <td>393.909546</td>\n",
              "      <td>214.994995</td>\n",
              "      <td>608.905334</td>\n",
              "      <td>178.915054</td>\n",
              "      <td>414.679535</td>\n",
              "      <td>212.636993</td>\n",
              "      <td>627.316345</td>\n",
              "      <td>202.042557</td>\n",
              "      <td>371.335541</td>\n",
              "      <td>77.647789</td>\n",
              "      <td>448.983337</td>\n",
              "      <td>293.688049</td>\n",
              "      <td>404.769531</td>\n",
              "      <td>208.319397</td>\n",
              "      <td>613.089356</td>\n",
              "      <td>196.450058</td>\n",
              "    </tr>\n",
              "    <tr>\n",
              "      <th>2</th>\n",
              "      <td>83.4144</td>\n",
              "      <td>34.6383</td>\n",
              "      <td>118.053</td>\n",
              "      <td>48.7761</td>\n",
              "      <td>120.299927</td>\n",
              "      <td>63.062927</td>\n",
              "      <td>183.362854</td>\n",
              "      <td>57.23703</td>\n",
              "      <td>119.447128</td>\n",
              "      <td>56.889927</td>\n",
              "      <td>176.337158</td>\n",
              "      <td>62.557205</td>\n",
              "      <td>129.875229</td>\n",
              "      <td>67.128822</td>\n",
              "      <td>197.004059</td>\n",
              "      <td>62.746365</td>\n",
              "      <td>393.909546</td>\n",
              "      <td>214.994995</td>\n",
              "      <td>608.905334</td>\n",
              "      <td>178.915054</td>\n",
              "      <td>414.679535</td>\n",
              "      <td>212.636993</td>\n",
              "      <td>627.316345</td>\n",
              "      <td>202.042557</td>\n",
              "      <td>371.335541</td>\n",
              "      <td>77.647789</td>\n",
              "      <td>448.983337</td>\n",
              "      <td>293.688049</td>\n",
              "      <td>404.769531</td>\n",
              "      <td>208.319397</td>\n",
              "      <td>613.089356</td>\n",
              "      <td>196.450058</td>\n",
              "    </tr>\n",
              "    <tr>\n",
              "      <th>3</th>\n",
              "      <td>83.4144</td>\n",
              "      <td>34.6383</td>\n",
              "      <td>118.053</td>\n",
              "      <td>48.7761</td>\n",
              "      <td>120.299927</td>\n",
              "      <td>63.062927</td>\n",
              "      <td>183.362854</td>\n",
              "      <td>57.23703</td>\n",
              "      <td>119.447128</td>\n",
              "      <td>56.889927</td>\n",
              "      <td>176.337158</td>\n",
              "      <td>62.557205</td>\n",
              "      <td>129.875229</td>\n",
              "      <td>67.128822</td>\n",
              "      <td>197.004059</td>\n",
              "      <td>62.746365</td>\n",
              "      <td>393.909546</td>\n",
              "      <td>214.994995</td>\n",
              "      <td>608.905334</td>\n",
              "      <td>178.915054</td>\n",
              "      <td>414.679535</td>\n",
              "      <td>212.636993</td>\n",
              "      <td>627.316345</td>\n",
              "      <td>202.042557</td>\n",
              "      <td>371.335541</td>\n",
              "      <td>77.647789</td>\n",
              "      <td>448.983337</td>\n",
              "      <td>293.688049</td>\n",
              "      <td>404.769531</td>\n",
              "      <td>208.319397</td>\n",
              "      <td>613.089356</td>\n",
              "      <td>196.450058</td>\n",
              "    </tr>\n",
              "    <tr>\n",
              "      <th>4</th>\n",
              "      <td>83.4144</td>\n",
              "      <td>34.6383</td>\n",
              "      <td>118.053</td>\n",
              "      <td>48.7761</td>\n",
              "      <td>120.299927</td>\n",
              "      <td>63.062927</td>\n",
              "      <td>183.362854</td>\n",
              "      <td>57.23703</td>\n",
              "      <td>119.447128</td>\n",
              "      <td>56.889927</td>\n",
              "      <td>176.337158</td>\n",
              "      <td>62.557205</td>\n",
              "      <td>129.875229</td>\n",
              "      <td>67.128822</td>\n",
              "      <td>197.004059</td>\n",
              "      <td>62.746365</td>\n",
              "      <td>393.909546</td>\n",
              "      <td>214.994995</td>\n",
              "      <td>608.905334</td>\n",
              "      <td>178.915054</td>\n",
              "      <td>414.679535</td>\n",
              "      <td>212.636993</td>\n",
              "      <td>627.316345</td>\n",
              "      <td>202.042557</td>\n",
              "      <td>371.335541</td>\n",
              "      <td>77.647789</td>\n",
              "      <td>448.983337</td>\n",
              "      <td>293.688049</td>\n",
              "      <td>404.769531</td>\n",
              "      <td>208.319397</td>\n",
              "      <td>613.089356</td>\n",
              "      <td>196.450058</td>\n",
              "    </tr>\n",
              "  </tbody>\n",
              "</table>\n",
              "</div>"
            ],
            "text/plain": [
              "  Rx1-Tx1O2Hb Rx1-Tx1HHb Rx1-Tx1tHb  ...  Rx2-Tx8HHb  Rx2-Tx8tHb  Rx2-Tx8HbDiff\n",
              "0     83.4144    34.6383    118.053  ...  208.319397  613.089356     196.450058\n",
              "1     83.4144    34.6383    118.053  ...  208.319397  613.089356     196.450058\n",
              "2     83.4144    34.6383    118.053  ...  208.319397  613.089356     196.450058\n",
              "3     83.4144    34.6383    118.053  ...  208.319397  613.089356     196.450058\n",
              "4     83.4144    34.6383    118.053  ...  208.319397  613.089356     196.450058\n",
              "\n",
              "[5 rows x 32 columns]"
            ]
          },
          "metadata": {
            "tags": []
          },
          "execution_count": 10
        }
      ]
    },
    {
      "cell_type": "code",
      "metadata": {
        "colab": {
          "base_uri": "https://localhost:8080/"
        },
        "id": "oTkwHyUFUnsu",
        "outputId": "2238a553-6e06-434c-ccb0-6b2774ae7bc6"
      },
      "source": [
        "new_Col"
      ],
      "execution_count": 11,
      "outputs": [
        {
          "output_type": "execute_result",
          "data": {
            "text/plain": [
              "['Rx1-Tx1O2Hb',\n",
              " 'Rx1-Tx1HHb',\n",
              " 'Rx1-Tx1tHb',\n",
              " 'Rx1-Tx1HbDiff',\n",
              " 'Rx1-Tx2O2Hb',\n",
              " 'Rx1-Tx2HHb',\n",
              " 'Rx1-Tx2tHb',\n",
              " 'Rx1-Tx2HbDiff',\n",
              " 'Rx1-Tx3O2Hb',\n",
              " 'Rx1-Tx3HHb',\n",
              " 'Rx1-Tx3tHb',\n",
              " 'Rx1-Tx3HbDiff',\n",
              " 'Rx1-Tx4O2Hb',\n",
              " 'Rx1-Tx4HHb',\n",
              " 'Rx1-Tx4tHb',\n",
              " 'Rx1-Tx4HbDiff',\n",
              " 'Rx2-Tx5O2Hb',\n",
              " 'Rx2-Tx5HHb',\n",
              " 'Rx2-Tx5tHb',\n",
              " 'Rx2-Tx5HbDiff',\n",
              " 'Rx2-Tx6O2Hb',\n",
              " 'Rx2-Tx6HHb',\n",
              " 'Rx2-Tx6tHb',\n",
              " 'Rx2-Tx6HbDiff',\n",
              " 'Rx2-Tx7O2Hb',\n",
              " 'Rx2-Tx7HHb',\n",
              " 'Rx2-Tx7tHb',\n",
              " 'Rx2-Tx7HbDiff',\n",
              " 'Rx2-Tx8O2Hb',\n",
              " 'Rx2-Tx8HHb',\n",
              " 'Rx2-Tx8tHb',\n",
              " 'Rx2-Tx8HbDiff']"
            ]
          },
          "metadata": {
            "tags": []
          },
          "execution_count": 11
        }
      ]
    },
    {
      "cell_type": "code",
      "metadata": {
        "colab": {
          "base_uri": "https://localhost:8080/",
          "height": 36
        },
        "id": "ieN8c87qV6-d",
        "outputId": "fb778484-171e-43fd-cf15-7c7a51826456"
      },
      "source": [
        "fileName"
      ],
      "execution_count": 12,
      "outputs": [
        {
          "output_type": "execute_result",
          "data": {
            "application/vnd.google.colaboratory.intrinsic+json": {
              "type": "string"
            },
            "text/plain": [
              "'Participant_820'"
            ]
          },
          "metadata": {
            "tags": []
          },
          "execution_count": 12
        }
      ]
    },
    {
      "cell_type": "code",
      "metadata": {
        "colab": {
          "base_uri": "https://localhost:8080/",
          "height": 897
        },
        "id": "gqxQcqnjtdc8",
        "outputId": "befc1649-fa2d-4141-b161-003fe86c007c"
      },
      "source": [
        "fig = plt.figure(figsize = (15,15))\r\n",
        "ax1 = fig.add_subplot(211)\r\n",
        "ax2 = fig.add_subplot(212)\r\n",
        "\r\n",
        "ax1.plot(data['Rx1-Tx1O2Hb'],'tab:orange')\r\n",
        "ax2.plot(data['Rx1-Tx1HHb'],'tab:green')\r\n",
        "\r\n",
        "ax.set_xlabel('Each Instance of data collection')\r\n",
        "ax.set_ylabel('Concentration')\r\n",
        "\r\n",
        "ax1.set_title('plot showing fluctuations in O2Hb(Oxygenated hemoglobin) concentrations form Reciver 1 and Light Source 1')\r\n",
        "ax2.set_title('plot showing fluctuations in HHb(deOxygenated hemoglobin) concentrations form Reciver 1 and Light Source 1')"
      ],
      "execution_count": 35,
      "outputs": [
        {
          "output_type": "execute_result",
          "data": {
            "text/plain": [
              "Text(0.5, 1.0, 'plot showing fluctuations in HHb(deOxygenated hemoglobin) concentrations form Reciver 1 and Light Source 1')"
            ]
          },
          "metadata": {
            "tags": []
          },
          "execution_count": 35
        },
        {
          "output_type": "display_data",
          "data": {
            "image/png": "[encoded data removed]",
            "text/plain": [
              "<Figure size 1080x1080 with 2 Axes>"
            ]
          },
          "metadata": {
            "tags": [],
            "needs_background": "light"
          }
        }
      ]
    },
    {
      "cell_type": "code",
      "metadata": {
        "id": "zRceQwDbkQ5M"
      },
      "source": [
        ""
      ],
      "execution_count": null,
      "outputs": []
    }
  ]
}